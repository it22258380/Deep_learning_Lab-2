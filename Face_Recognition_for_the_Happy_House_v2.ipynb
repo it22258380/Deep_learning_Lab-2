{
  "cells": [
    {
      "cell_type": "markdown",
      "metadata": {
        "id": "view-in-github",
        "colab_type": "text"
      },
      "source": [
        "<a href=\"https://colab.research.google.com/github/it22258380/Deep_learning_Lab-2/blob/main/Face_Recognition_for_the_Happy_House_v2.ipynb\" target=\"_parent\"><img src=\"https://colab.research.google.com/assets/colab-badge.svg\" alt=\"Open In Colab\"/></a>"
      ]
    },
    {
      "cell_type": "markdown",
      "metadata": {
        "id": "LuA-4GIPekX2"
      },
      "source": [
        "# Face Recognition for the Happy House\n",
        "\n",
        "Welcome to the first assignment of week 4! Here you will build a face recognition system. Many of the ideas presented here are from [FaceNet](https://arxiv.org/pdf/1503.03832.pdf). In lecture, we also talked about [DeepFace](https://research.fb.com/wp-content/uploads/2016/11/deepface-closing-the-gap-to-human-level-performance-in-face-verification.pdf).\n",
        "\n",
        "Face recognition problems commonly fall into two categories:\n",
        "\n",
        "- **Face Verification** - \"is this the claimed person?\". For example, at some airports, you can pass through customs by letting a system scan your passport and then verifying that you (the person carrying the passport) are the correct person. A mobile phone that unlocks using your face is also using face verification. This is a 1:1 matching problem.\n",
        "- **Face Recognition** - \"who is this person?\". For example, the video lecture showed a face recognition video (https://www.youtube.com/watch?v=wr4rx0Spihs) of Baidu employees entering the office without needing to otherwise identify themselves. This is a 1:K matching problem.\n",
        "\n",
        "FaceNet learns a neural network that encodes a face image into a vector of 128 numbers. By comparing two such vectors, you can then determine if two pictures are of the same person.\n",
        "    \n",
        "**In this assignment, you will:**\n",
        "- Implement the triplet loss function\n",
        "- Use a pretrained model to map face images into 128-dimensional encodings\n",
        "- Use these encodings to perform face verification and face recognition\n",
        "\n",
        "In this exercise, we will be using a pre-trained model which represents ConvNet activations using a \"channels first\" convention, as opposed to the \"channels last\" convention used in lecture and previous programming assignments. In other words, a batch of images will be of shape $(m, n_C, n_H, n_W)$ instead of $(m, n_H, n_W, n_C)$. Both of these conventions have a reasonable amount of traction among open-source implementations; there isn't a uniform standard yet within the deep learning community.\n",
        "\n",
        "Let's load the required packages.\n"
      ]
    },
    {
      "cell_type": "code",
      "source": [
        "from google.colab import drive\n",
        "drive.mount('/content/drive')"
      ],
      "metadata": {
        "colab": {
          "base_uri": "https://localhost:8080/"
        },
        "id": "qbwAIfLwoJgT",
        "outputId": "602b9199-1b91-4ebb-9fb1-d8c8b2203481"
      },
      "execution_count": 2,
      "outputs": [
        {
          "output_type": "stream",
          "name": "stdout",
          "text": [
            "Mounted at /content/drive\n"
          ]
        }
      ]
    },
    {
      "cell_type": "code",
      "source": [
        "from google.colab import files\n",
        "files.upload()"
      ],
      "metadata": {
        "colab": {
          "base_uri": "https://localhost:8080/",
          "height": 73
        },
        "id": "kFjVA-gEqoxz",
        "outputId": "64865f1c-451b-478d-ce85-0b6bed6c3573"
      },
      "execution_count": 4,
      "outputs": [
        {
          "output_type": "display_data",
          "data": {
            "text/plain": [
              "<IPython.core.display.HTML object>"
            ],
            "text/html": [
              "\n",
              "     <input type=\"file\" id=\"files-c6e89b4a-1038-4d4b-acb0-9419db131495\" name=\"files[]\" multiple disabled\n",
              "        style=\"border:none\" />\n",
              "     <output id=\"result-c6e89b4a-1038-4d4b-acb0-9419db131495\">\n",
              "      Upload widget is only available when the cell has been executed in the\n",
              "      current browser session. Please rerun this cell to enable.\n",
              "      </output>\n",
              "      <script>// Copyright 2017 Google LLC\n",
              "//\n",
              "// Licensed under the Apache License, Version 2.0 (the \"License\");\n",
              "// you may not use this file except in compliance with the License.\n",
              "// You may obtain a copy of the License at\n",
              "//\n",
              "//      http://www.apache.org/licenses/LICENSE-2.0\n",
              "//\n",
              "// Unless required by applicable law or agreed to in writing, software\n",
              "// distributed under the License is distributed on an \"AS IS\" BASIS,\n",
              "// WITHOUT WARRANTIES OR CONDITIONS OF ANY KIND, either express or implied.\n",
              "// See the License for the specific language governing permissions and\n",
              "// limitations under the License.\n",
              "\n",
              "/**\n",
              " * @fileoverview Helpers for google.colab Python module.\n",
              " */\n",
              "(function(scope) {\n",
              "function span(text, styleAttributes = {}) {\n",
              "  const element = document.createElement('span');\n",
              "  element.textContent = text;\n",
              "  for (const key of Object.keys(styleAttributes)) {\n",
              "    element.style[key] = styleAttributes[key];\n",
              "  }\n",
              "  return element;\n",
              "}\n",
              "\n",
              "// Max number of bytes which will be uploaded at a time.\n",
              "const MAX_PAYLOAD_SIZE = 100 * 1024;\n",
              "\n",
              "function _uploadFiles(inputId, outputId) {\n",
              "  const steps = uploadFilesStep(inputId, outputId);\n",
              "  const outputElement = document.getElementById(outputId);\n",
              "  // Cache steps on the outputElement to make it available for the next call\n",
              "  // to uploadFilesContinue from Python.\n",
              "  outputElement.steps = steps;\n",
              "\n",
              "  return _uploadFilesContinue(outputId);\n",
              "}\n",
              "\n",
              "// This is roughly an async generator (not supported in the browser yet),\n",
              "// where there are multiple asynchronous steps and the Python side is going\n",
              "// to poll for completion of each step.\n",
              "// This uses a Promise to block the python side on completion of each step,\n",
              "// then passes the result of the previous step as the input to the next step.\n",
              "function _uploadFilesContinue(outputId) {\n",
              "  const outputElement = document.getElementById(outputId);\n",
              "  const steps = outputElement.steps;\n",
              "\n",
              "  const next = steps.next(outputElement.lastPromiseValue);\n",
              "  return Promise.resolve(next.value.promise).then((value) => {\n",
              "    // Cache the last promise value to make it available to the next\n",
              "    // step of the generator.\n",
              "    outputElement.lastPromiseValue = value;\n",
              "    return next.value.response;\n",
              "  });\n",
              "}\n",
              "\n",
              "/**\n",
              " * Generator function which is called between each async step of the upload\n",
              " * process.\n",
              " * @param {string} inputId Element ID of the input file picker element.\n",
              " * @param {string} outputId Element ID of the output display.\n",
              " * @return {!Iterable<!Object>} Iterable of next steps.\n",
              " */\n",
              "function* uploadFilesStep(inputId, outputId) {\n",
              "  const inputElement = document.getElementById(inputId);\n",
              "  inputElement.disabled = false;\n",
              "\n",
              "  const outputElement = document.getElementById(outputId);\n",
              "  outputElement.innerHTML = '';\n",
              "\n",
              "  const pickedPromise = new Promise((resolve) => {\n",
              "    inputElement.addEventListener('change', (e) => {\n",
              "      resolve(e.target.files);\n",
              "    });\n",
              "  });\n",
              "\n",
              "  const cancel = document.createElement('button');\n",
              "  inputElement.parentElement.appendChild(cancel);\n",
              "  cancel.textContent = 'Cancel upload';\n",
              "  const cancelPromise = new Promise((resolve) => {\n",
              "    cancel.onclick = () => {\n",
              "      resolve(null);\n",
              "    };\n",
              "  });\n",
              "\n",
              "  // Wait for the user to pick the files.\n",
              "  const files = yield {\n",
              "    promise: Promise.race([pickedPromise, cancelPromise]),\n",
              "    response: {\n",
              "      action: 'starting',\n",
              "    }\n",
              "  };\n",
              "\n",
              "  cancel.remove();\n",
              "\n",
              "  // Disable the input element since further picks are not allowed.\n",
              "  inputElement.disabled = true;\n",
              "\n",
              "  if (!files) {\n",
              "    return {\n",
              "      response: {\n",
              "        action: 'complete',\n",
              "      }\n",
              "    };\n",
              "  }\n",
              "\n",
              "  for (const file of files) {\n",
              "    const li = document.createElement('li');\n",
              "    li.append(span(file.name, {fontWeight: 'bold'}));\n",
              "    li.append(span(\n",
              "        `(${file.type || 'n/a'}) - ${file.size} bytes, ` +\n",
              "        `last modified: ${\n",
              "            file.lastModifiedDate ? file.lastModifiedDate.toLocaleDateString() :\n",
              "                                    'n/a'} - `));\n",
              "    const percent = span('0% done');\n",
              "    li.appendChild(percent);\n",
              "\n",
              "    outputElement.appendChild(li);\n",
              "\n",
              "    const fileDataPromise = new Promise((resolve) => {\n",
              "      const reader = new FileReader();\n",
              "      reader.onload = (e) => {\n",
              "        resolve(e.target.result);\n",
              "      };\n",
              "      reader.readAsArrayBuffer(file);\n",
              "    });\n",
              "    // Wait for the data to be ready.\n",
              "    let fileData = yield {\n",
              "      promise: fileDataPromise,\n",
              "      response: {\n",
              "        action: 'continue',\n",
              "      }\n",
              "    };\n",
              "\n",
              "    // Use a chunked sending to avoid message size limits. See b/62115660.\n",
              "    let position = 0;\n",
              "    do {\n",
              "      const length = Math.min(fileData.byteLength - position, MAX_PAYLOAD_SIZE);\n",
              "      const chunk = new Uint8Array(fileData, position, length);\n",
              "      position += length;\n",
              "\n",
              "      const base64 = btoa(String.fromCharCode.apply(null, chunk));\n",
              "      yield {\n",
              "        response: {\n",
              "          action: 'append',\n",
              "          file: file.name,\n",
              "          data: base64,\n",
              "        },\n",
              "      };\n",
              "\n",
              "      let percentDone = fileData.byteLength === 0 ?\n",
              "          100 :\n",
              "          Math.round((position / fileData.byteLength) * 100);\n",
              "      percent.textContent = `${percentDone}% done`;\n",
              "\n",
              "    } while (position < fileData.byteLength);\n",
              "  }\n",
              "\n",
              "  // All done.\n",
              "  yield {\n",
              "    response: {\n",
              "      action: 'complete',\n",
              "    }\n",
              "  };\n",
              "}\n",
              "\n",
              "scope.google = scope.google || {};\n",
              "scope.google.colab = scope.google.colab || {};\n",
              "scope.google.colab._files = {\n",
              "  _uploadFiles,\n",
              "  _uploadFilesContinue,\n",
              "};\n",
              "})(self);\n",
              "</script> "
            ]
          },
          "metadata": {}
        },
        {
          "output_type": "stream",
          "name": "stdout",
          "text": [
            "Saving weights.zip to weights.zip\n"
          ]
        }
      ]
    },
    {
      "cell_type": "code",
      "execution_count": 4,
      "metadata": {
        "id": "-DFr5cHPyBKq"
      },
      "outputs": [],
      "source": [
        "\n",
        "\n",
        "import zipfile\n",
        "with zipfile.ZipFile('weights.zip', 'r') as zip_ref:\n",
        "    zip_ref.extractall('weights')\n",
        "\n"
      ]
    },
    {
      "cell_type": "code",
      "execution_count": 5,
      "metadata": {
        "id": "h06smg0Ef9RV",
        "colab": {
          "base_uri": "https://localhost:8080/",
          "height": 1000
        },
        "outputId": "fdb41112-070a-44e3-8221-9df31bd3262d"
      },
      "outputs": [
        {
          "output_type": "display_data",
          "data": {
            "text/plain": [
              "<IPython.core.display.HTML object>"
            ],
            "text/html": [
              "\n",
              "     <input type=\"file\" id=\"files-34cb8acb-e74e-4dcb-a49c-6acd06e1c76e\" name=\"files[]\" multiple disabled\n",
              "        style=\"border:none\" />\n",
              "     <output id=\"result-34cb8acb-e74e-4dcb-a49c-6acd06e1c76e\">\n",
              "      Upload widget is only available when the cell has been executed in the\n",
              "      current browser session. Please rerun this cell to enable.\n",
              "      </output>\n",
              "      <script>// Copyright 2017 Google LLC\n",
              "//\n",
              "// Licensed under the Apache License, Version 2.0 (the \"License\");\n",
              "// you may not use this file except in compliance with the License.\n",
              "// You may obtain a copy of the License at\n",
              "//\n",
              "//      http://www.apache.org/licenses/LICENSE-2.0\n",
              "//\n",
              "// Unless required by applicable law or agreed to in writing, software\n",
              "// distributed under the License is distributed on an \"AS IS\" BASIS,\n",
              "// WITHOUT WARRANTIES OR CONDITIONS OF ANY KIND, either express or implied.\n",
              "// See the License for the specific language governing permissions and\n",
              "// limitations under the License.\n",
              "\n",
              "/**\n",
              " * @fileoverview Helpers for google.colab Python module.\n",
              " */\n",
              "(function(scope) {\n",
              "function span(text, styleAttributes = {}) {\n",
              "  const element = document.createElement('span');\n",
              "  element.textContent = text;\n",
              "  for (const key of Object.keys(styleAttributes)) {\n",
              "    element.style[key] = styleAttributes[key];\n",
              "  }\n",
              "  return element;\n",
              "}\n",
              "\n",
              "// Max number of bytes which will be uploaded at a time.\n",
              "const MAX_PAYLOAD_SIZE = 100 * 1024;\n",
              "\n",
              "function _uploadFiles(inputId, outputId) {\n",
              "  const steps = uploadFilesStep(inputId, outputId);\n",
              "  const outputElement = document.getElementById(outputId);\n",
              "  // Cache steps on the outputElement to make it available for the next call\n",
              "  // to uploadFilesContinue from Python.\n",
              "  outputElement.steps = steps;\n",
              "\n",
              "  return _uploadFilesContinue(outputId);\n",
              "}\n",
              "\n",
              "// This is roughly an async generator (not supported in the browser yet),\n",
              "// where there are multiple asynchronous steps and the Python side is going\n",
              "// to poll for completion of each step.\n",
              "// This uses a Promise to block the python side on completion of each step,\n",
              "// then passes the result of the previous step as the input to the next step.\n",
              "function _uploadFilesContinue(outputId) {\n",
              "  const outputElement = document.getElementById(outputId);\n",
              "  const steps = outputElement.steps;\n",
              "\n",
              "  const next = steps.next(outputElement.lastPromiseValue);\n",
              "  return Promise.resolve(next.value.promise).then((value) => {\n",
              "    // Cache the last promise value to make it available to the next\n",
              "    // step of the generator.\n",
              "    outputElement.lastPromiseValue = value;\n",
              "    return next.value.response;\n",
              "  });\n",
              "}\n",
              "\n",
              "/**\n",
              " * Generator function which is called between each async step of the upload\n",
              " * process.\n",
              " * @param {string} inputId Element ID of the input file picker element.\n",
              " * @param {string} outputId Element ID of the output display.\n",
              " * @return {!Iterable<!Object>} Iterable of next steps.\n",
              " */\n",
              "function* uploadFilesStep(inputId, outputId) {\n",
              "  const inputElement = document.getElementById(inputId);\n",
              "  inputElement.disabled = false;\n",
              "\n",
              "  const outputElement = document.getElementById(outputId);\n",
              "  outputElement.innerHTML = '';\n",
              "\n",
              "  const pickedPromise = new Promise((resolve) => {\n",
              "    inputElement.addEventListener('change', (e) => {\n",
              "      resolve(e.target.files);\n",
              "    });\n",
              "  });\n",
              "\n",
              "  const cancel = document.createElement('button');\n",
              "  inputElement.parentElement.appendChild(cancel);\n",
              "  cancel.textContent = 'Cancel upload';\n",
              "  const cancelPromise = new Promise((resolve) => {\n",
              "    cancel.onclick = () => {\n",
              "      resolve(null);\n",
              "    };\n",
              "  });\n",
              "\n",
              "  // Wait for the user to pick the files.\n",
              "  const files = yield {\n",
              "    promise: Promise.race([pickedPromise, cancelPromise]),\n",
              "    response: {\n",
              "      action: 'starting',\n",
              "    }\n",
              "  };\n",
              "\n",
              "  cancel.remove();\n",
              "\n",
              "  // Disable the input element since further picks are not allowed.\n",
              "  inputElement.disabled = true;\n",
              "\n",
              "  if (!files) {\n",
              "    return {\n",
              "      response: {\n",
              "        action: 'complete',\n",
              "      }\n",
              "    };\n",
              "  }\n",
              "\n",
              "  for (const file of files) {\n",
              "    const li = document.createElement('li');\n",
              "    li.append(span(file.name, {fontWeight: 'bold'}));\n",
              "    li.append(span(\n",
              "        `(${file.type || 'n/a'}) - ${file.size} bytes, ` +\n",
              "        `last modified: ${\n",
              "            file.lastModifiedDate ? file.lastModifiedDate.toLocaleDateString() :\n",
              "                                    'n/a'} - `));\n",
              "    const percent = span('0% done');\n",
              "    li.appendChild(percent);\n",
              "\n",
              "    outputElement.appendChild(li);\n",
              "\n",
              "    const fileDataPromise = new Promise((resolve) => {\n",
              "      const reader = new FileReader();\n",
              "      reader.onload = (e) => {\n",
              "        resolve(e.target.result);\n",
              "      };\n",
              "      reader.readAsArrayBuffer(file);\n",
              "    });\n",
              "    // Wait for the data to be ready.\n",
              "    let fileData = yield {\n",
              "      promise: fileDataPromise,\n",
              "      response: {\n",
              "        action: 'continue',\n",
              "      }\n",
              "    };\n",
              "\n",
              "    // Use a chunked sending to avoid message size limits. See b/62115660.\n",
              "    let position = 0;\n",
              "    do {\n",
              "      const length = Math.min(fileData.byteLength - position, MAX_PAYLOAD_SIZE);\n",
              "      const chunk = new Uint8Array(fileData, position, length);\n",
              "      position += length;\n",
              "\n",
              "      const base64 = btoa(String.fromCharCode.apply(null, chunk));\n",
              "      yield {\n",
              "        response: {\n",
              "          action: 'append',\n",
              "          file: file.name,\n",
              "          data: base64,\n",
              "        },\n",
              "      };\n",
              "\n",
              "      let percentDone = fileData.byteLength === 0 ?\n",
              "          100 :\n",
              "          Math.round((position / fileData.byteLength) * 100);\n",
              "      percent.textContent = `${percentDone}% done`;\n",
              "\n",
              "    } while (position < fileData.byteLength);\n",
              "  }\n",
              "\n",
              "  // All done.\n",
              "  yield {\n",
              "    response: {\n",
              "      action: 'complete',\n",
              "    }\n",
              "  };\n",
              "}\n",
              "\n",
              "scope.google = scope.google || {};\n",
              "scope.google.colab = scope.google.colab || {};\n",
              "scope.google.colab._files = {\n",
              "  _uploadFiles,\n",
              "  _uploadFilesContinue,\n",
              "};\n",
              "})(self);\n",
              "</script> "
            ]
          },
          "metadata": {}
        },
        {
          "output_type": "stream",
          "name": "stdout",
          "text": [
            "Saving fr_utils.py to fr_utils.py\n"
          ]
        },
        {
          "output_type": "execute_result",
          "data": {
            "text/plain": [
              "{'fr_utils.py': b'#### PART OF THIS CODE IS USING CODE FROM VICTOR SY WANG: https://github.com/iwantooxxoox/Keras-OpenFace/blob/master/utils.py ####\\n\\nimport tensorflow as tf\\nimport numpy as np\\nimport os\\nimport cv2\\nfrom numpy import genfromtxt\\nfrom keras.layers import Conv2D, ZeroPadding2D, Activation, Input, concatenate\\nfrom keras.models import Model\\n# from keras.layers.normalization import BatchNormalization\\nfrom tensorflow.keras.layers import BatchNormalization\\n#from keras.layers.pooling import MaxPooling2D, AveragePooling2D\\nfrom tensorflow.keras.layers import MaxPooling2D, AveragePooling2D\\n\\nimport h5py\\nimport matplotlib.pyplot as plt\\n\\n\\n_FLOATX = \\'float32\\'\\n\\ndef variable(value, dtype=_FLOATX, name=None):\\n    v = tf.Variable(np.asarray(value, dtype=dtype), name=name)\\n    _get_session().run(v.initializer)\\n    return v\\n\\ndef shape(x):\\n    return x.get_shape()\\n\\ndef square(x):\\n    return tf.square(x)\\n\\ndef zeros(shape, dtype=_FLOATX, name=None):\\n    return variable(np.zeros(shape), dtype, name)\\n\\ndef concatenate(tensors, axis=-1):\\n    if axis < 0:\\n        axis = axis % len(tensors[0].get_shape())\\n    return tf.concat(axis, tensors)\\n\\ndef LRN2D(x):\\n    return tf.nn.lrn(x, alpha=1e-4, beta=0.75)\\n\\ndef conv2d_bn(x,\\n              layer=None,\\n              cv1_out=None,\\n              cv1_filter=(1, 1),\\n              cv1_strides=(1, 1),\\n              cv2_out=None,\\n              cv2_filter=(3, 3),\\n              cv2_strides=(1, 1),\\n              padding=None):\\n    num = \\'\\' if cv2_out == None else \\'1\\'\\n    tensor = Conv2D(cv1_out, cv1_filter, strides=cv1_strides, data_format=\\'channels_first\\', name=layer+\\'_conv\\'+num)(x)\\n    tensor = BatchNormalization(axis=1, epsilon=0.00001, name=layer+\\'_bn\\'+num)(tensor)\\n    tensor = Activation(\\'relu\\')(tensor)\\n    if padding == None:\\n        return tensor\\n    tensor = ZeroPadding2D(padding=padding, data_format=\\'channels_first\\')(tensor)\\n    if cv2_out == None:\\n        return tensor\\n    tensor = Conv2D(cv2_out, cv2_filter, strides=cv2_strides, data_format=\\'channels_first\\', name=layer+\\'_conv\\'+\\'2\\')(tensor)\\n    tensor = BatchNormalization(axis=1, epsilon=0.00001, name=layer+\\'_bn\\'+\\'2\\')(tensor)\\n    tensor = Activation(\\'relu\\')(tensor)\\n    return tensor\\n\\nWEIGHTS = [\\n  \\'conv1\\', \\'bn1\\', \\'conv2\\', \\'bn2\\', \\'conv3\\', \\'bn3\\',\\n  \\'inception_3a_1x1_conv\\', \\'inception_3a_1x1_bn\\',\\n  \\'inception_3a_pool_conv\\', \\'inception_3a_pool_bn\\',\\n  \\'inception_3a_5x5_conv1\\', \\'inception_3a_5x5_conv2\\', \\'inception_3a_5x5_bn1\\', \\'inception_3a_5x5_bn2\\',\\n  \\'inception_3a_3x3_conv1\\', \\'inception_3a_3x3_conv2\\', \\'inception_3a_3x3_bn1\\', \\'inception_3a_3x3_bn2\\',\\n  \\'inception_3b_3x3_conv1\\', \\'inception_3b_3x3_conv2\\', \\'inception_3b_3x3_bn1\\', \\'inception_3b_3x3_bn2\\',\\n  \\'inception_3b_5x5_conv1\\', \\'inception_3b_5x5_conv2\\', \\'inception_3b_5x5_bn1\\', \\'inception_3b_5x5_bn2\\',\\n  \\'inception_3b_pool_conv\\', \\'inception_3b_pool_bn\\',\\n  \\'inception_3b_1x1_conv\\', \\'inception_3b_1x1_bn\\',\\n  \\'inception_3c_3x3_conv1\\', \\'inception_3c_3x3_conv2\\', \\'inception_3c_3x3_bn1\\', \\'inception_3c_3x3_bn2\\',\\n  \\'inception_3c_5x5_conv1\\', \\'inception_3c_5x5_conv2\\', \\'inception_3c_5x5_bn1\\', \\'inception_3c_5x5_bn2\\',\\n  \\'inception_4a_3x3_conv1\\', \\'inception_4a_3x3_conv2\\', \\'inception_4a_3x3_bn1\\', \\'inception_4a_3x3_bn2\\',\\n  \\'inception_4a_5x5_conv1\\', \\'inception_4a_5x5_conv2\\', \\'inception_4a_5x5_bn1\\', \\'inception_4a_5x5_bn2\\',\\n  \\'inception_4a_pool_conv\\', \\'inception_4a_pool_bn\\',\\n  \\'inception_4a_1x1_conv\\', \\'inception_4a_1x1_bn\\',\\n  \\'inception_4e_3x3_conv1\\', \\'inception_4e_3x3_conv2\\', \\'inception_4e_3x3_bn1\\', \\'inception_4e_3x3_bn2\\',\\n  \\'inception_4e_5x5_conv1\\', \\'inception_4e_5x5_conv2\\', \\'inception_4e_5x5_bn1\\', \\'inception_4e_5x5_bn2\\',\\n  \\'inception_5a_3x3_conv1\\', \\'inception_5a_3x3_conv2\\', \\'inception_5a_3x3_bn1\\', \\'inception_5a_3x3_bn2\\',\\n  \\'inception_5a_pool_conv\\', \\'inception_5a_pool_bn\\',\\n  \\'inception_5a_1x1_conv\\', \\'inception_5a_1x1_bn\\',\\n  \\'inception_5b_3x3_conv1\\', \\'inception_5b_3x3_conv2\\', \\'inception_5b_3x3_bn1\\', \\'inception_5b_3x3_bn2\\',\\n  \\'inception_5b_pool_conv\\', \\'inception_5b_pool_bn\\',\\n  \\'inception_5b_1x1_conv\\', \\'inception_5b_1x1_bn\\',\\n  \\'dense_layer\\'\\n]\\n\\nconv_shape = {\\n  \\'conv1\\': [64, 3, 7, 7],\\n  \\'conv2\\': [64, 64, 1, 1],\\n  \\'conv3\\': [192, 64, 3, 3],\\n  \\'inception_3a_1x1_conv\\': [64, 192, 1, 1],\\n  \\'inception_3a_pool_conv\\': [32, 192, 1, 1],\\n  \\'inception_3a_5x5_conv1\\': [16, 192, 1, 1],\\n  \\'inception_3a_5x5_conv2\\': [32, 16, 5, 5],\\n  \\'inception_3a_3x3_conv1\\': [96, 192, 1, 1],\\n  \\'inception_3a_3x3_conv2\\': [128, 96, 3, 3],\\n  \\'inception_3b_3x3_conv1\\': [96, 256, 1, 1],\\n  \\'inception_3b_3x3_conv2\\': [128, 96, 3, 3],\\n  \\'inception_3b_5x5_conv1\\': [32, 256, 1, 1],\\n  \\'inception_3b_5x5_conv2\\': [64, 32, 5, 5],\\n  \\'inception_3b_pool_conv\\': [64, 256, 1, 1],\\n  \\'inception_3b_1x1_conv\\': [64, 256, 1, 1],\\n  \\'inception_3c_3x3_conv1\\': [128, 320, 1, 1],\\n  \\'inception_3c_3x3_conv2\\': [256, 128, 3, 3],\\n  \\'inception_3c_5x5_conv1\\': [32, 320, 1, 1],\\n  \\'inception_3c_5x5_conv2\\': [64, 32, 5, 5],\\n  \\'inception_4a_3x3_conv1\\': [96, 640, 1, 1],\\n  \\'inception_4a_3x3_conv2\\': [192, 96, 3, 3],\\n  \\'inception_4a_5x5_conv1\\': [32, 640, 1, 1,],\\n  \\'inception_4a_5x5_conv2\\': [64, 32, 5, 5],\\n  \\'inception_4a_pool_conv\\': [128, 640, 1, 1],\\n  \\'inception_4a_1x1_conv\\': [256, 640, 1, 1],\\n  \\'inception_4e_3x3_conv1\\': [160, 640, 1, 1],\\n  \\'inception_4e_3x3_conv2\\': [256, 160, 3, 3],\\n  \\'inception_4e_5x5_conv1\\': [64, 640, 1, 1],\\n  \\'inception_4e_5x5_conv2\\': [128, 64, 5, 5],\\n  \\'inception_5a_3x3_conv1\\': [96, 1024, 1, 1],\\n  \\'inception_5a_3x3_conv2\\': [384, 96, 3, 3],\\n  \\'inception_5a_pool_conv\\': [96, 1024, 1, 1],\\n  \\'inception_5a_1x1_conv\\': [256, 1024, 1, 1],\\n  \\'inception_5b_3x3_conv1\\': [96, 736, 1, 1],\\n  \\'inception_5b_3x3_conv2\\': [384, 96, 3, 3],\\n  \\'inception_5b_pool_conv\\': [96, 736, 1, 1],\\n  \\'inception_5b_1x1_conv\\': [256, 736, 1, 1],\\n}\\n\\n\\ndef load_weights_from_FaceNet(FRmodel, weights_dir=None):\\n    \"\"\"Load weights into FRmodel from CSV files.\\n\\n    Parameters\\n    ----------\\n    FRmodel : keras.Model\\n        The FaceNet Keras model instance.\\n    weights_dir : str or None\\n        Path to directory that contains *.csv weights. If None, common paths are tried.\\n    \"\"\"\\n    weights = WEIGHTS\\n    weights_dict = load_weights(weights_dir)\\n\\n    for name in weights:\\n        try:\\n            layer = FRmodel.get_layer(name)\\n            layer.set_weights(weights_dict[name])\\n        except Exception as e:\\n            # Layer not found or shape mismatch\\n            print(f\"[load_weights_from_FaceNet] Skipping \\'{name}\\': {e}\")\\n\\n\\ndef load_weights(weights_dir=None):\\n    \"\"\"\\n    Load FaceNet weights from CSV files. Robust to nested folders and different roots.\\n\\n    Parameters\\n    ----------\\n    weights_dir : str or None\\n        Directory containing CSVs (e.g., \\'/content/weights\\'). If None, try common candidates.\\n\\n    Returns\\n    -------\\n    dict : mapping from layer name to list of numpy arrays for weights\\n    \"\"\"\\n    import glob\\n\\n    # Candidate roots to search\\n    candidates = []\\n    if weights_dir:\\n        candidates.append(weights_dir)\\n    candidates += [\\n        \"./weights\",\\n        \"/content/weights\",\\n        \"./content/weights\",\\n        \"./weights/weights\",\\n        \"/content/weights/weights\",\\n    ]\\n\\n    found_root = None\\n    for c in candidates:\\n        try_path = os.path.abspath(c)\\n        if os.path.isdir(try_path):\\n            csvs = glob.glob(os.path.join(try_path, \"*.csv\"))\\n            if csvs:\\n                found_root = try_path\\n                break\\n    if found_root is None:\\n        raise FileNotFoundError(\\n            \"Could not locate weights CSVs. Please unzip so that you have a folder \"\\n            \"containing files like conv1_w.csv, bn1_w.csv, dense_w.csv.\"\\n        )\\n\\n    # index all csv files by basename without extension\\n    fileNames = [f for f in os.listdir(found_root) if f.endswith(\".csv\")]\\n    paths = { os.path.splitext(n)[0] : os.path.join(found_root, n) for n in fileNames }\\n\\n    weights_dict = {}\\n    missing = []\\n\\n    for name in WEIGHTS:\\n        if \\'conv\\' in name:\\n            w_key, b_key = name + \\'_w\\', name + \\'_b\\'\\n            if w_key not in paths or b_key not in paths:\\n                missing.append((name, [w_key, b_key]))\\n                continue\\n            conv_w = genfromtxt(paths[w_key], delimiter=\\',\\', dtype=None)\\n            conv_w = np.reshape(conv_w, conv_shape[name])\\n            conv_w = np.transpose(conv_w, (2, 3, 1, 0))\\n            conv_b = genfromtxt(paths[b_key], delimiter=\\',\\', dtype=None)\\n            weights_dict[name] = [conv_w, conv_b]\\n        elif \\'bn\\' in name:\\n            w_key, b_key, m_key, v_key = name + \\'_w\\', name + \\'_b\\', name + \\'_m\\', name + \\'_v\\'\\n            if any(k not in paths for k in [w_key, b_key, m_key, v_key]):\\n                missing.append((name, [w_key, b_key, m_key, v_key]))\\n                continue\\n            bn_w = genfromtxt(paths[w_key], delimiter=\\',\\', dtype=None)\\n            bn_b = genfromtxt(paths[b_key], delimiter=\\',\\', dtype=None)\\n            bn_m = genfromtxt(paths[m_key], delimiter=\\',\\', dtype=None)\\n            bn_v = genfromtxt(paths[v_key], delimiter=\\',\\', dtype=None)\\n            weights_dict[name] = [bn_w, bn_b, bn_m, bn_v]\\n        elif \\'dense\\' in name:\\n            dw = os.path.join(found_root, \\'dense_w.csv\\')\\n            db = os.path.join(found_root, \\'dense_b.csv\\')\\n            if not (os.path.exists(dw) and os.path.exists(db)):\\n                missing.append((name, [\\'dense_w.csv\\', \\'dense_b.csv\\']))\\n                continue\\n            dense_w = genfromtxt(dw, delimiter=\\',\\', dtype=None)\\n            dense_w = np.reshape(dense_w, (128, 736))\\n            dense_w = np.transpose(dense_w, (1, 0))\\n            dense_b = genfromtxt(db, delimiter=\\',\\', dtype=None)\\n            weights_dict[name] = [dense_w, dense_b]\\n\\n    if missing:\\n        print(\"[load_weights] WARNING: Missing some expected CSVs. The following layer keys were not found:\")\\n        for n, keys in missing:\\n            print(f\"  - {n}: missing one of {keys}\")\\n\\n    return weights_dict\\n\\n\\n\\ndef load_dataset():\\n    train_dataset = h5py.File(\\'datasets/train_happy.h5\\', \"r\")\\n    train_set_x_orig = np.array(train_dataset[\"train_set_x\"][:]) # your train set features\\n    train_set_y_orig = np.array(train_dataset[\"train_set_y\"][:]) # your train set labels\\n\\n    test_dataset = h5py.File(\\'datasets/test_happy.h5\\', \"r\")\\n    test_set_x_orig = np.array(test_dataset[\"test_set_x\"][:]) # your test set features\\n    test_set_y_orig = np.array(test_dataset[\"test_set_y\"][:]) # your test set labels\\n\\n    classes = np.array(test_dataset[\"list_classes\"][:]) # the list of classes\\n    \\n    train_set_y_orig = train_set_y_orig.reshape((1, train_set_y_orig.shape[0]))\\n    test_set_y_orig = test_set_y_orig.reshape((1, test_set_y_orig.shape[0]))\\n    \\n    return train_set_x_orig, train_set_y_orig, test_set_x_orig, test_set_y_orig, classes\\n\\ndef img_to_encoding(image_path, model):\\n    \"\"\"Read an image file, resize to 96x96, and produce a FaceNet embedding.\"\"\"\\n    img_bgr = cv2.imread(image_path, 1)\\n    if img_bgr is None:\\n        raise FileNotFoundError(f\"Image not found: {image_path}\")\\n    img_rgb = img_bgr[..., ::-1]\\n    # Resize to FaceNet expected size\\n    try:\\n        import tensorflow as _tf\\n        img_rgb = _tf.image.resize(img_rgb, (96, 96)).numpy()\\n    except Exception:\\n        img_rgb = cv2.resize(img_rgb, (96, 96), interpolation=cv2.INTER_AREA)\\n    # Normalize and transpose to (C, H, W)\\n    img = np.around(np.transpose(img_rgb, (2, 0, 1)) / 255.0, decimals=12)\\n    x = np.expand_dims(img, axis=0)\\n    embedding = model.predict_on_batch(x)\\n    return embedding'}"
            ]
          },
          "metadata": {},
          "execution_count": 5
        }
      ],
      "source": [
        "from google.colab import files\n",
        "files.upload()\n"
      ]
    },
    {
      "cell_type": "code",
      "source": [
        "import fr_utils"
      ],
      "metadata": {
        "id": "UvBkv0ArwtRH"
      },
      "execution_count": 6,
      "outputs": []
    },
    {
      "cell_type": "code",
      "source": [
        "from google.colab import files\n",
        "files.upload()"
      ],
      "metadata": {
        "id": "y-2pNK9A7WFU",
        "outputId": "4f4b86af-709e-4793-8509-883f080091ca",
        "colab": {
          "base_uri": "https://localhost:8080/",
          "height": 1000
        }
      },
      "execution_count": 8,
      "outputs": [
        {
          "output_type": "display_data",
          "data": {
            "text/plain": [
              "<IPython.core.display.HTML object>"
            ],
            "text/html": [
              "\n",
              "     <input type=\"file\" id=\"files-40bee22d-48f9-4faa-86bc-1c269525bc29\" name=\"files[]\" multiple disabled\n",
              "        style=\"border:none\" />\n",
              "     <output id=\"result-40bee22d-48f9-4faa-86bc-1c269525bc29\">\n",
              "      Upload widget is only available when the cell has been executed in the\n",
              "      current browser session. Please rerun this cell to enable.\n",
              "      </output>\n",
              "      <script>// Copyright 2017 Google LLC\n",
              "//\n",
              "// Licensed under the Apache License, Version 2.0 (the \"License\");\n",
              "// you may not use this file except in compliance with the License.\n",
              "// You may obtain a copy of the License at\n",
              "//\n",
              "//      http://www.apache.org/licenses/LICENSE-2.0\n",
              "//\n",
              "// Unless required by applicable law or agreed to in writing, software\n",
              "// distributed under the License is distributed on an \"AS IS\" BASIS,\n",
              "// WITHOUT WARRANTIES OR CONDITIONS OF ANY KIND, either express or implied.\n",
              "// See the License for the specific language governing permissions and\n",
              "// limitations under the License.\n",
              "\n",
              "/**\n",
              " * @fileoverview Helpers for google.colab Python module.\n",
              " */\n",
              "(function(scope) {\n",
              "function span(text, styleAttributes = {}) {\n",
              "  const element = document.createElement('span');\n",
              "  element.textContent = text;\n",
              "  for (const key of Object.keys(styleAttributes)) {\n",
              "    element.style[key] = styleAttributes[key];\n",
              "  }\n",
              "  return element;\n",
              "}\n",
              "\n",
              "// Max number of bytes which will be uploaded at a time.\n",
              "const MAX_PAYLOAD_SIZE = 100 * 1024;\n",
              "\n",
              "function _uploadFiles(inputId, outputId) {\n",
              "  const steps = uploadFilesStep(inputId, outputId);\n",
              "  const outputElement = document.getElementById(outputId);\n",
              "  // Cache steps on the outputElement to make it available for the next call\n",
              "  // to uploadFilesContinue from Python.\n",
              "  outputElement.steps = steps;\n",
              "\n",
              "  return _uploadFilesContinue(outputId);\n",
              "}\n",
              "\n",
              "// This is roughly an async generator (not supported in the browser yet),\n",
              "// where there are multiple asynchronous steps and the Python side is going\n",
              "// to poll for completion of each step.\n",
              "// This uses a Promise to block the python side on completion of each step,\n",
              "// then passes the result of the previous step as the input to the next step.\n",
              "function _uploadFilesContinue(outputId) {\n",
              "  const outputElement = document.getElementById(outputId);\n",
              "  const steps = outputElement.steps;\n",
              "\n",
              "  const next = steps.next(outputElement.lastPromiseValue);\n",
              "  return Promise.resolve(next.value.promise).then((value) => {\n",
              "    // Cache the last promise value to make it available to the next\n",
              "    // step of the generator.\n",
              "    outputElement.lastPromiseValue = value;\n",
              "    return next.value.response;\n",
              "  });\n",
              "}\n",
              "\n",
              "/**\n",
              " * Generator function which is called between each async step of the upload\n",
              " * process.\n",
              " * @param {string} inputId Element ID of the input file picker element.\n",
              " * @param {string} outputId Element ID of the output display.\n",
              " * @return {!Iterable<!Object>} Iterable of next steps.\n",
              " */\n",
              "function* uploadFilesStep(inputId, outputId) {\n",
              "  const inputElement = document.getElementById(inputId);\n",
              "  inputElement.disabled = false;\n",
              "\n",
              "  const outputElement = document.getElementById(outputId);\n",
              "  outputElement.innerHTML = '';\n",
              "\n",
              "  const pickedPromise = new Promise((resolve) => {\n",
              "    inputElement.addEventListener('change', (e) => {\n",
              "      resolve(e.target.files);\n",
              "    });\n",
              "  });\n",
              "\n",
              "  const cancel = document.createElement('button');\n",
              "  inputElement.parentElement.appendChild(cancel);\n",
              "  cancel.textContent = 'Cancel upload';\n",
              "  const cancelPromise = new Promise((resolve) => {\n",
              "    cancel.onclick = () => {\n",
              "      resolve(null);\n",
              "    };\n",
              "  });\n",
              "\n",
              "  // Wait for the user to pick the files.\n",
              "  const files = yield {\n",
              "    promise: Promise.race([pickedPromise, cancelPromise]),\n",
              "    response: {\n",
              "      action: 'starting',\n",
              "    }\n",
              "  };\n",
              "\n",
              "  cancel.remove();\n",
              "\n",
              "  // Disable the input element since further picks are not allowed.\n",
              "  inputElement.disabled = true;\n",
              "\n",
              "  if (!files) {\n",
              "    return {\n",
              "      response: {\n",
              "        action: 'complete',\n",
              "      }\n",
              "    };\n",
              "  }\n",
              "\n",
              "  for (const file of files) {\n",
              "    const li = document.createElement('li');\n",
              "    li.append(span(file.name, {fontWeight: 'bold'}));\n",
              "    li.append(span(\n",
              "        `(${file.type || 'n/a'}) - ${file.size} bytes, ` +\n",
              "        `last modified: ${\n",
              "            file.lastModifiedDate ? file.lastModifiedDate.toLocaleDateString() :\n",
              "                                    'n/a'} - `));\n",
              "    const percent = span('0% done');\n",
              "    li.appendChild(percent);\n",
              "\n",
              "    outputElement.appendChild(li);\n",
              "\n",
              "    const fileDataPromise = new Promise((resolve) => {\n",
              "      const reader = new FileReader();\n",
              "      reader.onload = (e) => {\n",
              "        resolve(e.target.result);\n",
              "      };\n",
              "      reader.readAsArrayBuffer(file);\n",
              "    });\n",
              "    // Wait for the data to be ready.\n",
              "    let fileData = yield {\n",
              "      promise: fileDataPromise,\n",
              "      response: {\n",
              "        action: 'continue',\n",
              "      }\n",
              "    };\n",
              "\n",
              "    // Use a chunked sending to avoid message size limits. See b/62115660.\n",
              "    let position = 0;\n",
              "    do {\n",
              "      const length = Math.min(fileData.byteLength - position, MAX_PAYLOAD_SIZE);\n",
              "      const chunk = new Uint8Array(fileData, position, length);\n",
              "      position += length;\n",
              "\n",
              "      const base64 = btoa(String.fromCharCode.apply(null, chunk));\n",
              "      yield {\n",
              "        response: {\n",
              "          action: 'append',\n",
              "          file: file.name,\n",
              "          data: base64,\n",
              "        },\n",
              "      };\n",
              "\n",
              "      let percentDone = fileData.byteLength === 0 ?\n",
              "          100 :\n",
              "          Math.round((position / fileData.byteLength) * 100);\n",
              "      percent.textContent = `${percentDone}% done`;\n",
              "\n",
              "    } while (position < fileData.byteLength);\n",
              "  }\n",
              "\n",
              "  // All done.\n",
              "  yield {\n",
              "    response: {\n",
              "      action: 'complete',\n",
              "    }\n",
              "  };\n",
              "}\n",
              "\n",
              "scope.google = scope.google || {};\n",
              "scope.google.colab = scope.google.colab || {};\n",
              "scope.google.colab._files = {\n",
              "  _uploadFiles,\n",
              "  _uploadFilesContinue,\n",
              "};\n",
              "})(self);\n",
              "</script> "
            ]
          },
          "metadata": {}
        },
        {
          "output_type": "stream",
          "name": "stdout",
          "text": [
            "Saving inception_blocks_v2.py to inception_blocks_v2.py\n"
          ]
        },
        {
          "output_type": "execute_result",
          "data": {
            "text/plain": [
              "{'inception_blocks_v2.py': b'\\nimport tensorflow as tf\\nimport numpy as np\\nimport os\\nfrom numpy import genfromtxt\\nfrom keras import backend as K\\nfrom keras.layers import Conv2D, ZeroPadding2D, Activation, Input, concatenate\\nfrom keras.models import Model\\n# from keras.layers.normalization import BatchNormalization\\nfrom tensorflow.keras.layers import BatchNormalization\\n\\n\\nfrom tensorflow.keras.layers import MaxPooling2D, AveragePooling2D\\n\\n\\nimport fr_utils\\nfrom tensorflow.keras.layers import Lambda, Flatten, Dense\\n\\ndef inception_block_1a(X):\\n    \"\"\"\\n    Implementation of an inception block\\n    \"\"\"\\n    \\n    X_3x3 = Conv2D(96, (1, 1), data_format=\\'channels_first\\', name =\\'inception_3a_3x3_conv1\\')(X)\\n    X_3x3 = BatchNormalization(axis=1, epsilon=0.00001, name = \\'inception_3a_3x3_bn1\\')(X_3x3)\\n    X_3x3 = Activation(\\'relu\\')(X_3x3)\\n    X_3x3 = ZeroPadding2D(padding=(1, 1), data_format=\\'channels_first\\')(X_3x3)\\n    X_3x3 = Conv2D(128, (3, 3), data_format=\\'channels_first\\', name=\\'inception_3a_3x3_conv2\\')(X_3x3)\\n    X_3x3 = BatchNormalization(axis=1, epsilon=0.00001, name=\\'inception_3a_3x3_bn2\\')(X_3x3)\\n    X_3x3 = Activation(\\'relu\\')(X_3x3)\\n    \\n    X_5x5 = Conv2D(16, (1, 1), data_format=\\'channels_first\\', name=\\'inception_3a_5x5_conv1\\')(X)\\n    X_5x5 = BatchNormalization(axis=1, epsilon=0.00001, name=\\'inception_3a_5x5_bn1\\')(X_5x5)\\n    X_5x5 = Activation(\\'relu\\')(X_5x5)\\n    X_5x5 = ZeroPadding2D(padding=(2, 2), data_format=\\'channels_first\\')(X_5x5)\\n    X_5x5 = Conv2D(32, (5, 5), data_format=\\'channels_first\\', name=\\'inception_3a_5x5_conv2\\')(X_5x5)\\n    X_5x5 = BatchNormalization(axis=1, epsilon=0.00001, name=\\'inception_3a_5x5_bn2\\')(X_5x5)\\n    X_5x5 = Activation(\\'relu\\')(X_5x5)\\n\\n    X_pool = MaxPooling2D(pool_size=3, strides=2, data_format=\\'channels_first\\')(X)\\n    X_pool = Conv2D(32, (1, 1), data_format=\\'channels_first\\', name=\\'inception_3a_pool_conv\\')(X_pool)\\n    X_pool = BatchNormalization(axis=1, epsilon=0.00001, name=\\'inception_3a_pool_bn\\')(X_pool)\\n    X_pool = Activation(\\'relu\\')(X_pool)\\n    X_pool = ZeroPadding2D(padding=((3, 4), (3, 4)), data_format=\\'channels_first\\')(X_pool)\\n\\n    X_1x1 = Conv2D(64, (1, 1), data_format=\\'channels_first\\', name=\\'inception_3a_1x1_conv\\')(X)\\n    X_1x1 = BatchNormalization(axis=1, epsilon=0.00001, name=\\'inception_3a_1x1_bn\\')(X_1x1)\\n    X_1x1 = Activation(\\'relu\\')(X_1x1)\\n        \\n    # CONCAT\\n    inception = concatenate([X_3x3, X_5x5, X_pool, X_1x1], axis=1)\\n\\n    return inception\\n\\ndef inception_block_1b(X):\\n    X_3x3 = Conv2D(96, (1, 1), data_format=\\'channels_first\\', name=\\'inception_3b_3x3_conv1\\')(X)\\n    X_3x3 = BatchNormalization(axis=1, epsilon=0.00001, name=\\'inception_3b_3x3_bn1\\')(X_3x3)\\n    X_3x3 = Activation(\\'relu\\')(X_3x3)\\n    X_3x3 = ZeroPadding2D(padding=(1, 1), data_format=\\'channels_first\\')(X_3x3)\\n    X_3x3 = Conv2D(128, (3, 3), data_format=\\'channels_first\\', name=\\'inception_3b_3x3_conv2\\')(X_3x3)\\n    X_3x3 = BatchNormalization(axis=1, epsilon=0.00001, name=\\'inception_3b_3x3_bn2\\')(X_3x3)\\n    X_3x3 = Activation(\\'relu\\')(X_3x3)\\n\\n    X_5x5 = Conv2D(32, (1, 1), data_format=\\'channels_first\\', name=\\'inception_3b_5x5_conv1\\')(X)\\n    X_5x5 = BatchNormalization(axis=1, epsilon=0.00001, name=\\'inception_3b_5x5_bn1\\')(X_5x5)\\n    X_5x5 = Activation(\\'relu\\')(X_5x5)\\n    X_5x5 = ZeroPadding2D(padding=(2, 2), data_format=\\'channels_first\\')(X_5x5)\\n    X_5x5 = Conv2D(64, (5, 5), data_format=\\'channels_first\\', name=\\'inception_3b_5x5_conv2\\')(X_5x5)\\n    X_5x5 = BatchNormalization(axis=1, epsilon=0.00001, name=\\'inception_3b_5x5_bn2\\')(X_5x5)\\n    X_5x5 = Activation(\\'relu\\')(X_5x5)\\n\\n    X_pool = AveragePooling2D(pool_size=(3, 3), strides=(3, 3), data_format=\\'channels_first\\')(X)\\n    X_pool = Conv2D(64, (1, 1), data_format=\\'channels_first\\', name=\\'inception_3b_pool_conv\\')(X_pool)\\n    X_pool = BatchNormalization(axis=1, epsilon=0.00001, name=\\'inception_3b_pool_bn\\')(X_pool)\\n    X_pool = Activation(\\'relu\\')(X_pool)\\n    X_pool = ZeroPadding2D(padding=(4, 4), data_format=\\'channels_first\\')(X_pool)\\n\\n    X_1x1 = Conv2D(64, (1, 1), data_format=\\'channels_first\\', name=\\'inception_3b_1x1_conv\\')(X)\\n    X_1x1 = BatchNormalization(axis=1, epsilon=0.00001, name=\\'inception_3b_1x1_bn\\')(X_1x1)\\n    X_1x1 = Activation(\\'relu\\')(X_1x1)\\n\\n    inception = concatenate([X_3x3, X_5x5, X_pool, X_1x1], axis=1)\\n\\n    return inception\\n\\ndef inception_block_1c(X):\\n    X_3x3 = fr_utils.conv2d_bn(X,\\n                           layer=\\'inception_3c_3x3\\',\\n                           cv1_out=128,\\n                           cv1_filter=(1, 1),\\n                           cv2_out=256,\\n                           cv2_filter=(3, 3),\\n                           cv2_strides=(2, 2),\\n                           padding=(1, 1))\\n\\n    X_5x5 = fr_utils.conv2d_bn(X,\\n                           layer=\\'inception_3c_5x5\\',\\n                           cv1_out=32,\\n                           cv1_filter=(1, 1),\\n                           cv2_out=64,\\n                           cv2_filter=(5, 5),\\n                           cv2_strides=(2, 2),\\n                           padding=(2, 2))\\n\\n    X_pool = MaxPooling2D(pool_size=3, strides=2, data_format=\\'channels_first\\')(X)\\n    X_pool = ZeroPadding2D(padding=((0, 1), (0, 1)), data_format=\\'channels_first\\')(X_pool)\\n\\n    inception = concatenate([X_3x3, X_5x5, X_pool], axis=1)\\n\\n    return inception\\n\\ndef inception_block_2a(X):\\n    X_3x3 = fr_utils.conv2d_bn(X,\\n                           layer=\\'inception_4a_3x3\\',\\n                           cv1_out=96,\\n                           cv1_filter=(1, 1),\\n                           cv2_out=192,\\n                           cv2_filter=(3, 3),\\n                           cv2_strides=(1, 1),\\n                           padding=(1, 1))\\n    X_5x5 = fr_utils.conv2d_bn(X,\\n                           layer=\\'inception_4a_5x5\\',\\n                           cv1_out=32,\\n                           cv1_filter=(1, 1),\\n                           cv2_out=64,\\n                           cv2_filter=(5, 5),\\n                           cv2_strides=(1, 1),\\n                           padding=(2, 2))\\n\\n    X_pool = AveragePooling2D(pool_size=(3, 3), strides=(3, 3), data_format=\\'channels_first\\')(X)\\n    X_pool = fr_utils.conv2d_bn(X_pool,\\n                           layer=\\'inception_4a_pool\\',\\n                           cv1_out=128,\\n                           cv1_filter=(1, 1),\\n                           padding=(2, 2))\\n    X_1x1 = fr_utils.conv2d_bn(X,\\n                           layer=\\'inception_4a_1x1\\',\\n                           cv1_out=256,\\n                           cv1_filter=(1, 1))\\n    inception = concatenate([X_3x3, X_5x5, X_pool, X_1x1], axis=1)\\n\\n    return inception\\n\\ndef inception_block_2b(X):\\n    #inception4e\\n    X_3x3 = fr_utils.conv2d_bn(X,\\n                           layer=\\'inception_4e_3x3\\',\\n                           cv1_out=160,\\n                           cv1_filter=(1, 1),\\n                           cv2_out=256,\\n                           cv2_filter=(3, 3),\\n                           cv2_strides=(2, 2),\\n                           padding=(1, 1))\\n    X_5x5 = fr_utils.conv2d_bn(X,\\n                           layer=\\'inception_4e_5x5\\',\\n                           cv1_out=64,\\n                           cv1_filter=(1, 1),\\n                           cv2_out=128,\\n                           cv2_filter=(5, 5),\\n                           cv2_strides=(2, 2),\\n                           padding=(2, 2))\\n    \\n    X_pool = MaxPooling2D(pool_size=3, strides=2, data_format=\\'channels_first\\')(X)\\n    X_pool = ZeroPadding2D(padding=((0, 1), (0, 1)), data_format=\\'channels_first\\')(X_pool)\\n\\n    inception = concatenate([X_3x3, X_5x5, X_pool], axis=1)\\n\\n    return inception\\n\\ndef inception_block_3a(X):\\n    X_3x3 = fr_utils.conv2d_bn(X,\\n                           layer=\\'inception_5a_3x3\\',\\n                           cv1_out=96,\\n                           cv1_filter=(1, 1),\\n                           cv2_out=384,\\n                           cv2_filter=(3, 3),\\n                           cv2_strides=(1, 1),\\n                           padding=(1, 1))\\n    X_pool = AveragePooling2D(pool_size=(3, 3), strides=(3, 3), data_format=\\'channels_first\\')(X)\\n    X_pool = fr_utils.conv2d_bn(X_pool,\\n                           layer=\\'inception_5a_pool\\',\\n                           cv1_out=96,\\n                           cv1_filter=(1, 1),\\n                           padding=(1, 1))\\n    X_1x1 = fr_utils.conv2d_bn(X,\\n                           layer=\\'inception_5a_1x1\\',\\n                           cv1_out=256,\\n                           cv1_filter=(1, 1))\\n\\n    inception = concatenate([X_3x3, X_pool, X_1x1], axis=1)\\n\\n    return inception\\n\\ndef inception_block_3b(X):\\n    X_3x3 = fr_utils.conv2d_bn(X,\\n                           layer=\\'inception_5b_3x3\\',\\n                           cv1_out=96,\\n                           cv1_filter=(1, 1),\\n                           cv2_out=384,\\n                           cv2_filter=(3, 3),\\n                           cv2_strides=(1, 1),\\n                           padding=(1, 1))\\n    X_pool = MaxPooling2D(pool_size=3, strides=2, data_format=\\'channels_first\\')(X)\\n    X_pool = fr_utils.conv2d_bn(X_pool,\\n                           layer=\\'inception_5b_pool\\',\\n                           cv1_out=96,\\n                           cv1_filter=(1, 1))\\n    X_pool = ZeroPadding2D(padding=(1, 1), data_format=\\'channels_first\\')(X_pool)\\n\\n    X_1x1 = fr_utils.conv2d_bn(X,\\n                           layer=\\'inception_5b_1x1\\',\\n                           cv1_out=256,\\n                           cv1_filter=(1, 1))\\n    inception = concatenate([X_3x3, X_pool, X_1x1], axis=1)\\n\\n    return inception\\n\\ndef faceRecoModel(input_shape):\\n    \"\"\"\\n    Implementation of the Inception model used for FaceNet\\n    \\n    Arguments:\\n    input_shape -- shape of the images of the dataset\\n\\n    Returns:\\n    model -- a Model() instance in Keras\\n    \"\"\"\\n        \\n    # Define the input as a tensor with shape input_shape\\n    X_input = Input(input_shape)\\n\\n    # Zero-Padding\\n    X = ZeroPadding2D((3, 3))(X_input)\\n    \\n    # First Block\\n    X = Conv2D(64, (7, 7), strides = (2, 2), name = \\'conv1\\')(X)\\n    X = BatchNormalization(axis = 1, name = \\'bn1\\')(X)\\n    X = Activation(\\'relu\\')(X)\\n    \\n    # Zero-Padding + MAXPOOL\\n    X = ZeroPadding2D((1, 1))(X)\\n    X = MaxPooling2D((3, 3), strides = 2)(X)\\n    \\n    # Second Block\\n    X = Conv2D(64, (1, 1), strides = (1, 1), name = \\'conv2\\')(X)\\n    X = BatchNormalization(axis = 1, epsilon=0.00001, name = \\'bn2\\')(X)\\n    X = Activation(\\'relu\\')(X)\\n    \\n    # Zero-Padding + MAXPOOL\\n    X = ZeroPadding2D((1, 1))(X)\\n\\n    # Second Block\\n    X = Conv2D(192, (3, 3), strides = (1, 1), name = \\'conv3\\')(X)\\n    X = BatchNormalization(axis = 1, epsilon=0.00001, name = \\'bn3\\')(X)\\n    X = Activation(\\'relu\\')(X)\\n    \\n    # Zero-Padding + MAXPOOL\\n    X = ZeroPadding2D((1, 1))(X)\\n    X = MaxPooling2D(pool_size = 3, strides = 2)(X)\\n    \\n    # Inception 1: a/b/c\\n    X = inception_block_1a(X)\\n    X = inception_block_1b(X)\\n    X = inception_block_1c(X)\\n    \\n    # Inception 2: a/b\\n    X = inception_block_2a(X)\\n    X = inception_block_2b(X)\\n    \\n    # Inception 3: a/b\\n    X = inception_block_3a(X)\\n    X = inception_block_3b(X)\\n    \\n    # Top layer\\n    X = AveragePooling2D(pool_size=(3, 3), strides=(1, 1), data_format=\\'channels_first\\')(X)\\n    X = Flatten()(X)\\n    X = Dense(128, name=\\'dense_layer\\')(X)\\n    \\n    # L2 normalization\\n   # X = Lambda(lambda x: tf.math.l2_normalize(x, axis=1), output_shape=(128,))(X)\\n    X = Lambda(lambda x: tf.math.l2_normalize(x, axis=1), output_shape=(128,))(X)\\n\\n    # Create model instance\\n    model = Model(inputs = X_input, outputs = X, name=\\'FaceRecoModel\\')\\n        \\n    return model'}"
            ]
          },
          "metadata": {},
          "execution_count": 8
        }
      ]
    },
    {
      "cell_type": "code",
      "execution_count": 10,
      "metadata": {
        "colab": {
          "base_uri": "https://localhost:8080/"
        },
        "id": "A6SBtExrekX5",
        "outputId": "b7331c71-d91c-44fc-be07-4433dabeae16"
      },
      "outputs": [
        {
          "output_type": "stream",
          "name": "stdout",
          "text": [
            "2.19.0\n"
          ]
        }
      ],
      "source": [
        "\n",
        "from keras.models import Sequential\n",
        "from keras.layers import Conv2D, ZeroPadding2D, Activation, Input, concatenate\n",
        "from keras.models import Model\n",
        "# from keras.layers.normalization import BatchNormalization\n",
        "from tensorflow.keras.layers import BatchNormalization\n",
        "#from keras.layers.pooling import MaxPooling2D, AveragePooling2D\n",
        "from tensorflow.keras.layers import MaxPooling2D, AveragePooling2D\n",
        "# from keras.layers.merge import Concatenate\n",
        "from tensorflow.keras.layers import concatenate\n",
        "\n",
        "from tensorflow.keras.layers import Lambda, Flatten, Dense\n",
        "from keras.initializers import glorot_uniform\n",
        "# from keras.engine.topology import Layer\n",
        "from tensorflow.keras.layers import Layer, InputSpec\n",
        "from keras import backend as K\n",
        "K.set_image_data_format('channels_first')\n",
        "import cv2\n",
        "import os\n",
        "import numpy as np\n",
        "from numpy import genfromtxt\n",
        "import pandas as pd\n",
        "import tensorflow as tf\n",
        "from fr_utils import *\n",
        "from inception_blocks_v2 import *\n",
        "\n",
        "%matplotlib inline\n",
        "\n",
        "\n",
        "import tensorflow\n",
        "print(tensorflow.__version__)\n",
        "\n",
        "# np.set_printoptions(threshold=np.nan)"
      ]
    },
    {
      "cell_type": "markdown",
      "metadata": {
        "id": "S_AfxbFdekYA"
      },
      "source": [
        "## 0 - Naive Face Verification\n",
        "\n",
        "In Face Verification, you're given two images and you have to tell if they are of the same person. The simplest way to do this is to compare the two images pixel-by-pixel. If the distance between the raw images are less than a chosen threshold, it may be the same person!\n",
        "\n",
        "<img src=\"//github.com/enggen/Deep-Learning-Coursera/raw/1407e19c98833d2686a0748db26b594f3102301e/Convolutional Neural Networks/Week4/Face Recognition/images/pixel_comparison.png\" style=\"width:380px;height:150px;\">\n",
        "<caption><center> <u> <font color='purple'> </u></center></caption>"
      ]
    },
    {
      "cell_type": "markdown",
      "metadata": {
        "collapsed": true,
        "id": "PGNZGVAlekYB",
        "jupyter": {
          "outputs_hidden": true
        }
      },
      "source": [
        "Of course, this algorithm performs really poorly, since the pixel values change dramatically due to variations in lighting, orientation of the person's face, even minor changes in head position, and so on.\n",
        "\n",
        "You'll see that rather than using the raw image, you can learn an encoding $f(img)$ so that element-wise comparisons of this encoding gives more accurate judgements as to whether two pictures are of the same person."
      ]
    },
    {
      "cell_type": "markdown",
      "metadata": {
        "id": "b67v8ii_ekYB"
      },
      "source": [
        "## 1 - Encoding face images into a 128-dimensional vector\n",
        "\n",
        "### 1.1 - Using an ConvNet  to compute encodings\n",
        "\n",
        "The FaceNet model takes a lot of data and a long time to train. So following common practice in applied deep learning settings, let's just load weights that someone else has already trained. The network architecture follows the Inception model from [Szegedy *et al.*](https://arxiv.org/abs/1409.4842). We have provided an inception network implementation. You can look in the file `inception_blocks.py` to see how it is implemented (do so by going to \"File->Open...\" at the top of the Jupyter notebook).  \n"
      ]
    },
    {
      "cell_type": "markdown",
      "metadata": {
        "id": "Pwk8QR0iekYC"
      },
      "source": [
        "The key things you need to know are:\n",
        "\n",
        "- This network uses 96x96 dimensional RGB images as its input. Specifically, inputs a face image (or batch of $m$ face images) as a tensor of shape $(m, n_C, n_H, n_W) = (m, 3, 96, 96)$\n",
        "- It outputs a matrix of shape $(m, 128)$ that encodes each input face image into a 128-dimensional vector\n",
        "\n",
        "Run the cell below to create the model for face images."
      ]
    },
    {
      "cell_type": "code",
      "execution_count": 11,
      "metadata": {
        "id": "rgh0TInJekYD"
      },
      "outputs": [],
      "source": [
        "FRmodel = faceRecoModel(input_shape=(3, 96, 96))"
      ]
    },
    {
      "cell_type": "code",
      "execution_count": 12,
      "metadata": {
        "colab": {
          "base_uri": "https://localhost:8080/"
        },
        "id": "QlKMPb6nekYG",
        "outputId": "e06b7192-8611-4c7b-e08d-6a0f9f4e6a39"
      },
      "outputs": [
        {
          "output_type": "stream",
          "name": "stdout",
          "text": [
            "Total Params: 3743280\n"
          ]
        }
      ],
      "source": [
        "print(\"Total Params:\", FRmodel.count_params())"
      ]
    },
    {
      "cell_type": "markdown",
      "metadata": {
        "id": "U6g2zkTvekYJ"
      },
      "source": [
        "** Expected Output **\n",
        "<table>\n",
        "<center>\n",
        "Total Params: 3743280\n",
        "</center>\n",
        "</table>\n"
      ]
    },
    {
      "cell_type": "markdown",
      "metadata": {
        "id": "oue9ViX-ekYK"
      },
      "source": [
        "By using a 128-neuron fully connected layer as its last layer, the model ensures that the output is an encoding vector of size 128. You then use the encodings the compare two face images as follows:\n",
        "\n",
        "<img src=\"//github.com/enggen/Deep-Learning-Coursera/raw/1407e19c98833d2686a0748db26b594f3102301e/Convolutional Neural Networks/Week4/Face Recognition/images/distance_kiank.png\" style=\"width:680px;height:250px;\">\n",
        "<caption><center> <u> <font color='purple'>  <br> </u> <font color='purple'> By computing a distance between two encodings and thresholding, you can determine if the two pictures represent the same person</center></caption>\n",
        "\n",
        "So, an encoding is a good one if:\n",
        "- The encodings of two images of the same person are quite similar to each other\n",
        "- The encodings of two images of different persons are very different\n",
        "\n",
        "The triplet loss function formalizes this, and tries to \"push\" the encodings of two images of the same person (Anchor and Positive) closer together, while \"pulling\" the encodings of two images of different persons (Anchor, Negative) further apart.\n",
        "\n",
        "<img src=\"//github.com/enggen/Deep-Learning-Coursera/raw/1407e19c98833d2686a0748db26b594f3102301e/Convolutional Neural Networks/Week4/Face Recognition/images/triplet_comparison.png\" style=\"width:280px;height:150px;\">\n",
        "<br>\n",
        "<caption><center> <u> <font color='purple'> <br> </u> <font color='purple'> In the next part, we will call the pictures from left to right: Anchor (A), Positive (P), Negative (N)  </center></caption>"
      ]
    },
    {
      "cell_type": "markdown",
      "metadata": {
        "id": "befDNuayekYL"
      },
      "source": [
        "\n",
        "\n",
        "### 1.2 - The Triplet Loss\n",
        "\n",
        "For an image $x$, we denote its encoding $f(x)$, where $f$ is the function computed by the neural network.\n",
        "\n",
        "<img src=\"//github.com/enggen/Deep-Learning-Coursera/raw/1407e19c98833d2686a0748db26b594f3102301e/Convolutional Neural Networks/Week4/Face Recognition/images/f_x.png\" style=\"width:380px;height:150px;\">\n",
        "\n",
        "<!--\n",
        "We will also add a normalization step at the end of our model so that $\\mid \\mid f(x) \\mid \\mid_2 = 1$ (means the vector of encoding should be of norm 1).\n",
        "!-->\n",
        "\n",
        "Training will use triplets of images $(A, P, N)$:  \n",
        "\n",
        "- A is an \"Anchor\" image--a picture of a person.\n",
        "- P is a \"Positive\" image--a picture of the same person as the Anchor image.\n",
        "- N is a \"Negative\" image--a picture of a different person than the Anchor image.\n",
        "\n",
        "These triplets are picked from our training dataset. We will write $(A^{(i)}, P^{(i)}, N^{(i)})$ to denote the $i$-th training example.\n",
        "\n",
        "You'd like to make sure that an image $A^{(i)}$ of an individual is closer to the Positive $P^{(i)}$ than to the Negative image $N^{(i)}$) by at least a margin $\\alpha$:\n",
        "\n",
        "$$\\mid \\mid f(A^{(i)}) - f(P^{(i)}) \\mid \\mid_2^2 + \\alpha < \\mid \\mid f(A^{(i)}) - f(N^{(i)}) \\mid \\mid_2^2$$\n",
        "\n",
        "You would thus like to minimize the following \"triplet cost\":\n",
        "\n",
        "$$\\mathcal{J} = \\sum^{N}_{i=1} \\large[ \\small \\underbrace{\\mid \\mid f(A^{(i)}) - f(P^{(i)}) \\mid \\mid_2^2}_\\text{(1)} - \\underbrace{\\mid \\mid f(A^{(i)}) - f(N^{(i)}) \\mid \\mid_2^2}_\\text{(2)} + \\alpha \\large ] \\small_+ \\tag{3}$$\n",
        "\n",
        "Here, we are using the notation \"$[z]_+$\" to denote $max(z,0)$.  \n",
        "\n",
        "Notes:\n",
        "- The term (1) is the squared distance between the anchor \"A\" and the positive \"P\" for a given triplet; you want this to be small.\n",
        "- The term (2) is the squared distance between the anchor \"A\" and the negative \"N\" for a given triplet, you want this to be relatively large, so it thus makes sense to have a minus sign preceding it.\n",
        "- $\\alpha$ is called the margin. It is a hyperparameter that you should pick manually. We will use $\\alpha = 0.2$.\n",
        "\n",
        "Most implementations also normalize the encoding vectors  to have norm equal one (i.e., $\\mid \\mid f(img)\\mid \\mid_2$=1); you won't have to worry about that here.\n",
        "\n",
        "**Exercise**: Implement the triplet loss as defined by formula (3). Here are the 4 steps:\n",
        "1. Compute the distance between the encodings of \"anchor\" and \"positive\": $\\mid \\mid f(A^{(i)}) - f(P^{(i)}) \\mid \\mid_2^2$\n",
        "2. Compute the distance between the encodings of \"anchor\" and \"negative\": $\\mid \\mid f(A^{(i)}) - f(N^{(i)}) \\mid \\mid_2^2$\n",
        "3. Compute the formula per training example: $ \\mid \\mid f(A^{(i)}) - f(P^{(i)}) \\mid - \\mid \\mid f(A^{(i)}) - f(N^{(i)}) \\mid \\mid_2^2 + \\alpha$\n",
        "3. Compute the full formula by taking the max with zero and summing over the training examples:\n",
        "$$\\mathcal{J} = \\sum^{N}_{i=1} \\large[ \\small \\mid \\mid f(A^{(i)}) - f(P^{(i)}) \\mid \\mid_2^2 - \\mid \\mid f(A^{(i)}) - f(N^{(i)}) \\mid \\mid_2^2+ \\alpha \\large ] \\small_+ \\tag{3}$$\n",
        "\n",
        "Useful functions: `tf.reduce_sum()`, `tf.square()`, `tf.subtract()`, `tf.add()`, `tf.reduce_mean`, `tf.maximum()`."
      ]
    },
    {
      "cell_type": "code",
      "execution_count": null,
      "metadata": {
        "id": "WUrgBCMcekYM"
      },
      "outputs": [],
      "source": [
        "# GRADED FUNCTION: triplet_loss\n",
        "\n",
        "def triplet_loss(y_true, y_pred, alpha = 0.2):\n",
        "    \"\"\"\n",
        "    Implementation of the triplet loss as defined by formula (3)\n",
        "\n",
        "    Arguments:\n",
        "    y_true -- true labels, required when you define a loss in Keras, you don't need it in this function.\n",
        "    y_pred -- python list containing three objects:\n",
        "            anchor -- the encodings for the anchor images, of shape (None, 128)\n",
        "            positive -- the encodings for the positive images, of shape (None, 128)\n",
        "            negative -- the encodings for the negative images, of shape (None, 128)\n",
        "\n",
        "    Returns:\n",
        "    loss -- real number, value of the loss\n",
        "    \"\"\"\n",
        "\n",
        "    anchor, positive, negative = y_pred[0], y_pred[1], y_pred[2]\n",
        "\n",
        "    ### START CODE HERE ### (≈ 4 lines)\n",
        "    # Step 1: Compute the (encoding) distance between the anchor and the positive\n",
        "    pos_dist = tf.reduce_sum(tf.square(tf.subtract(anchor, positive)))\n",
        "    # Step 2: Compute the (encoding) distance between the anchor and the negative\n",
        "    neg_dist = tf.reduce_sum(tf.square(tf.subtract(anchor, negative)))\n",
        "    # Step 3: subtract the two previous distances and add alpha.\n",
        "    basic_loss = tf.add(tf.subtract(pos_dist, neg_dist), alpha)\n",
        "    # Step 4: Take the maximum of basic_loss and 0.0. Sum over the training examples.\n",
        "    loss = tf.maximum(tf.reduce_mean(basic_loss), 0.0)\n",
        "    ### END CODE HERE ###\n",
        "\n",
        "    return loss"
      ]
    },
    {
      "cell_type": "code",
      "execution_count": null,
      "metadata": {
        "colab": {
          "base_uri": "https://localhost:8080/"
        },
        "id": "TOO0syfFekYP",
        "outputId": "eec1d8b3-7bad-4514-91b8-89e877a5fbeb"
      },
      "outputs": [
        {
          "output_type": "stream",
          "name": "stdout",
          "text": [
            "loss = 350.02734\n"
          ]
        }
      ],
      "source": [
        "# with tf.Session() as test:\n",
        "with tf.compat.v1.Session() as test:\n",
        "#    tf.set_random_seed(1)\n",
        "    tf.random.set_seed(1)\n",
        "    y_true = (None, None, None)\n",
        "    y_pred = (tf.random.normal([3, 128], mean=6, stddev=0.1, seed = 1),\n",
        "              tf.random.normal([3, 128], mean=1, stddev=1, seed = 1),\n",
        "              tf.random.normal([3, 128], mean=3, stddev=4, seed = 1))\n",
        "    loss = triplet_loss(y_true, y_pred)\n",
        "\n",
        "    print(\"loss = \" + str(loss.eval()))\n",
        "\n"
      ]
    },
    {
      "cell_type": "markdown",
      "metadata": {
        "id": "OZL-BTeGekYS"
      },
      "source": [
        "**Expected Output**:\n",
        "\n",
        "<table>\n",
        "    <tr>\n",
        "        <td>\n",
        "            **loss**\n",
        "        </td>\n",
        "        <td>\n",
        "           350.026\n",
        "        </td>\n",
        "    </tr>\n",
        "\n",
        "</table>"
      ]
    },
    {
      "cell_type": "markdown",
      "metadata": {
        "id": "VQoiSWXyekYT"
      },
      "source": [
        "## 2 - Loading the trained model\n",
        "\n",
        "FaceNet is trained by minimizing the triplet loss. But since training requires a lot of data and a lot of computation, we won't train it from scratch here. Instead, we load a previously trained model. Load a model using the following cell; this might take a couple of minutes to run."
      ]
    },
    {
      "cell_type": "code",
      "execution_count": null,
      "metadata": {
        "id": "V3_KBS1iekYU",
        "colab": {
          "base_uri": "https://localhost:8080/",
          "height": 339
        },
        "outputId": "8dece672-d12c-486b-8ca2-98f6455bb417"
      },
      "outputs": [
        {
          "output_type": "error",
          "ename": "KeyError",
          "evalue": "'conv1_w'",
          "traceback": [
            "\u001b[0;31m---------------------------------------------------------------------------\u001b[0m",
            "\u001b[0;31mKeyError\u001b[0m                                  Traceback (most recent call last)",
            "\u001b[0;32m<ipython-input-23-e3a02b5b8708>\u001b[0m in \u001b[0;36m<cell line: 2>\u001b[0;34m()\u001b[0m\n\u001b[1;32m      1\u001b[0m \u001b[0mFRmodel\u001b[0m\u001b[0;34m.\u001b[0m\u001b[0mcompile\u001b[0m\u001b[0;34m(\u001b[0m\u001b[0moptimizer\u001b[0m \u001b[0;34m=\u001b[0m \u001b[0;34m'adam'\u001b[0m\u001b[0;34m,\u001b[0m \u001b[0mloss\u001b[0m \u001b[0;34m=\u001b[0m \u001b[0mtriplet_loss\u001b[0m\u001b[0;34m,\u001b[0m \u001b[0mmetrics\u001b[0m \u001b[0;34m=\u001b[0m \u001b[0;34m[\u001b[0m\u001b[0;34m'accuracy'\u001b[0m\u001b[0;34m]\u001b[0m\u001b[0;34m)\u001b[0m\u001b[0;34m\u001b[0m\u001b[0;34m\u001b[0m\u001b[0m\n\u001b[0;32m----> 2\u001b[0;31m \u001b[0mload_weights_from_FaceNet\u001b[0m\u001b[0;34m(\u001b[0m\u001b[0mFRmodel\u001b[0m\u001b[0;34m)\u001b[0m\u001b[0;34m\u001b[0m\u001b[0;34m\u001b[0m\u001b[0m\n\u001b[0m",
            "\u001b[0;32m/content/fr_utils.py\u001b[0m in \u001b[0;36mload_weights_from_FaceNet\u001b[0;34m(FRmodel)\u001b[0m\n\u001b[1;32m    134\u001b[0m     \u001b[0;31m# Load weights from csv files (which was exported from Openface torch model)\u001b[0m\u001b[0;34m\u001b[0m\u001b[0;34m\u001b[0m\u001b[0m\n\u001b[1;32m    135\u001b[0m     \u001b[0mweights\u001b[0m \u001b[0;34m=\u001b[0m \u001b[0mWEIGHTS\u001b[0m\u001b[0;34m\u001b[0m\u001b[0;34m\u001b[0m\u001b[0m\n\u001b[0;32m--> 136\u001b[0;31m     \u001b[0mweights_dict\u001b[0m \u001b[0;34m=\u001b[0m \u001b[0mload_weights\u001b[0m\u001b[0;34m(\u001b[0m\u001b[0;34m)\u001b[0m\u001b[0;34m\u001b[0m\u001b[0;34m\u001b[0m\u001b[0m\n\u001b[0m\u001b[1;32m    137\u001b[0m \u001b[0;34m\u001b[0m\u001b[0m\n\u001b[1;32m    138\u001b[0m     \u001b[0;31m# Set layer weights of the model\u001b[0m\u001b[0;34m\u001b[0m\u001b[0;34m\u001b[0m\u001b[0m\n",
            "\u001b[0;32m/content/fr_utils.py\u001b[0m in \u001b[0;36mload_weights\u001b[0;34m()\u001b[0m\n\u001b[1;32m    155\u001b[0m     \u001b[0;32mfor\u001b[0m \u001b[0mname\u001b[0m \u001b[0;32min\u001b[0m \u001b[0mWEIGHTS\u001b[0m\u001b[0;34m:\u001b[0m\u001b[0;34m\u001b[0m\u001b[0;34m\u001b[0m\u001b[0m\n\u001b[1;32m    156\u001b[0m         \u001b[0;32mif\u001b[0m \u001b[0;34m'conv'\u001b[0m \u001b[0;32min\u001b[0m \u001b[0mname\u001b[0m\u001b[0;34m:\u001b[0m\u001b[0;34m\u001b[0m\u001b[0;34m\u001b[0m\u001b[0m\n\u001b[0;32m--> 157\u001b[0;31m             \u001b[0mconv_w\u001b[0m \u001b[0;34m=\u001b[0m \u001b[0mgenfromtxt\u001b[0m\u001b[0;34m(\u001b[0m\u001b[0mpaths\u001b[0m\u001b[0;34m[\u001b[0m\u001b[0mname\u001b[0m \u001b[0;34m+\u001b[0m \u001b[0;34m'_w'\u001b[0m\u001b[0;34m]\u001b[0m\u001b[0;34m,\u001b[0m \u001b[0mdelimiter\u001b[0m\u001b[0;34m=\u001b[0m\u001b[0;34m','\u001b[0m\u001b[0;34m,\u001b[0m \u001b[0mdtype\u001b[0m\u001b[0;34m=\u001b[0m\u001b[0;32mNone\u001b[0m\u001b[0;34m)\u001b[0m\u001b[0;34m\u001b[0m\u001b[0;34m\u001b[0m\u001b[0m\n\u001b[0m\u001b[1;32m    158\u001b[0m             \u001b[0mconv_w\u001b[0m \u001b[0;34m=\u001b[0m \u001b[0mnp\u001b[0m\u001b[0;34m.\u001b[0m\u001b[0mreshape\u001b[0m\u001b[0;34m(\u001b[0m\u001b[0mconv_w\u001b[0m\u001b[0;34m,\u001b[0m \u001b[0mconv_shape\u001b[0m\u001b[0;34m[\u001b[0m\u001b[0mname\u001b[0m\u001b[0;34m]\u001b[0m\u001b[0;34m)\u001b[0m\u001b[0;34m\u001b[0m\u001b[0;34m\u001b[0m\u001b[0m\n\u001b[1;32m    159\u001b[0m             \u001b[0mconv_w\u001b[0m \u001b[0;34m=\u001b[0m \u001b[0mnp\u001b[0m\u001b[0;34m.\u001b[0m\u001b[0mtranspose\u001b[0m\u001b[0;34m(\u001b[0m\u001b[0mconv_w\u001b[0m\u001b[0;34m,\u001b[0m \u001b[0;34m(\u001b[0m\u001b[0;36m2\u001b[0m\u001b[0;34m,\u001b[0m \u001b[0;36m3\u001b[0m\u001b[0;34m,\u001b[0m \u001b[0;36m1\u001b[0m\u001b[0;34m,\u001b[0m \u001b[0;36m0\u001b[0m\u001b[0;34m)\u001b[0m\u001b[0;34m)\u001b[0m\u001b[0;34m\u001b[0m\u001b[0;34m\u001b[0m\u001b[0m\n",
            "\u001b[0;31mKeyError\u001b[0m: 'conv1_w'"
          ]
        }
      ],
      "source": [
        "FRmodel.compile(optimizer = 'adam', loss = triplet_loss, metrics = ['accuracy'])\n",
        "load_weights_from_FaceNet(FRmodel)"
      ]
    },
    {
      "cell_type": "markdown",
      "metadata": {
        "id": "oemfQTSmekYX"
      },
      "source": [
        "Here're some examples of distances between the encodings between three individuals:\n",
        "\n",
        "<img src=\"//github.com/enggen/Deep-Learning-Coursera/raw/1407e19c98833d2686a0748db26b594f3102301e/Convolutional Neural Networks/Week4/Face Recognition/images/distance_matrix.png\" style=\"width:380px;height:200px;\">\n",
        "<br>\n",
        "<caption><center> <u> <font color='purple'> </u> <br>  <font color='purple'> Example of distance outputs between three individuals' encodings</center></caption>\n",
        "\n",
        "Let's now use this model to perform face verification and face recognition!"
      ]
    },
    {
      "cell_type": "markdown",
      "metadata": {
        "id": "FSQJZkyWekYX"
      },
      "source": [
        "## 3 - Applying the model"
      ]
    },
    {
      "cell_type": "markdown",
      "metadata": {
        "id": "3vI2FJ0tekYY"
      },
      "source": [
        "Back to the Happy House! Residents are living blissfully since you implemented happiness recognition for the house in an earlier assignment.  \n",
        "\n",
        "However, several issues keep coming up: The Happy House became so happy that every happy person in the neighborhood is coming to hang out in your living room. It is getting really crowded, which is having a negative impact on the residents of the house. All these random happy people are also eating all your food.\n",
        "\n",
        "So, you decide to change the door entry policy, and not just let random happy people enter anymore, even if they are happy! Instead, you'd like to build a **Face verification** system so as to only let people from a specified list come in. To get admitted, each person has to swipe an ID card (identification card) to identify themselves at the door. The face recognition system then checks that they are who they claim to be."
      ]
    },
    {
      "cell_type": "markdown",
      "metadata": {
        "id": "HUDhPZ_TekYY"
      },
      "source": [
        "### 3.1 - Face Verification\n",
        "\n",
        "Let's build a database containing one encoding vector for each person allowed to enter the happy house. To generate the encoding we use `img_to_encoding(image_path, model)` which basically runs the forward propagation of the model on the specified image.\n",
        "\n",
        "Run the following code to build the database (represented as a python dictionary). This database maps each person's name to a 128-dimensional encoding of their face."
      ]
    },
    {
      "cell_type": "code",
      "execution_count": null,
      "metadata": {
        "id": "9wz8eTUQekYZ"
      },
      "outputs": [],
      "source": [
        "database = {}\n",
        "database[\"danielle\"] = img_to_encoding(\"images/danielle.png\", FRmodel)\n",
        "database[\"younes\"] = img_to_encoding(\"images/younes.jpg\", FRmodel)\n",
        "database[\"tian\"] = img_to_encoding(\"images/tian.jpg\", FRmodel)\n",
        "database[\"andrew\"] = img_to_encoding(\"images/andrew.jpg\", FRmodel)\n",
        "database[\"kian\"] = img_to_encoding(\"images/kian.jpg\", FRmodel)\n",
        "database[\"dan\"] = img_to_encoding(\"images/dan.jpg\", FRmodel)\n",
        "database[\"sebastiano\"] = img_to_encoding(\"images/sebastiano.jpg\", FRmodel)\n",
        "database[\"bertrand\"] = img_to_encoding(\"images/bertrand.jpg\", FRmodel)\n",
        "database[\"kevin\"] = img_to_encoding(\"images/kevin.jpg\", FRmodel)\n",
        "database[\"felix\"] = img_to_encoding(\"images/felix.jpg\", FRmodel)\n",
        "database[\"benoit\"] = img_to_encoding(\"images/benoit.jpg\", FRmodel)\n",
        "database[\"arnaud\"] = img_to_encoding(\"images/arnaud.jpg\", FRmodel)"
      ]
    },
    {
      "cell_type": "markdown",
      "metadata": {
        "id": "JQmV-qpKekYb"
      },
      "source": [
        "Now, when someone shows up at your front door and swipes their ID card (thus giving you their name), you can look up their encoding in the database, and use it to check if the person standing at the front door matches the name on the ID.\n",
        "\n",
        "**Exercise**: Implement the verify() function which checks if the front-door camera picture (`image_path`) is actually the person called \"identity\". You will have to go through the following steps:\n",
        "1. Compute the encoding of the image from image_path\n",
        "2. Compute the distance about this encoding and the encoding of the identity image stored in the database\n",
        "3. Open the door if the distance is less than 0.7, else do not open.\n",
        "\n",
        "As presented above, you should use the L2 distance (np.linalg.norm). (Note: In this implementation, compare the L2 distance, not the square of the L2 distance, to the threshold 0.7.)"
      ]
    },
    {
      "cell_type": "code",
      "execution_count": null,
      "metadata": {
        "id": "loLof3vRekYc"
      },
      "outputs": [],
      "source": [
        "# GRADED FUNCTION: verify\n",
        "\n",
        "def verify(image_path, identity, database, model):\n",
        "    \"\"\"\n",
        "    Function that verifies if the person on the \"image_path\" image is \"identity\".\n",
        "\n",
        "    Arguments:\n",
        "    image_path -- path to an image\n",
        "    identity -- string, name of the person you'd like to verify the identity. Has to be a resident of the Happy house.\n",
        "    database -- python dictionary mapping names of allowed people's names (strings) to their encodings (vectors).\n",
        "    model -- your Inception model instance in Keras\n",
        "\n",
        "    Returns:\n",
        "    dist -- distance between the image_path and the image of \"identity\" in the database.\n",
        "    door_open -- True, if the door should open. False otherwise.\n",
        "    \"\"\"\n",
        "\n",
        "    ### START CODE HERE ###\n",
        "\n",
        "    # Step 1: Compute the encoding for the image. Use img_to_encoding() see example above. (≈ 1 line)\n",
        "    encoding = img_to_encoding(image_path, model)\n",
        "\n",
        "    # Step 2: Compute distance with identity's image (≈ 1 line)\n",
        "    dist = np.linalg.norm(encoding-database[identity])\n",
        "\n",
        "    # Step 3: Open the door if dist < 0.7, else don't open (≈ 3 lines)\n",
        "    if dist < 0.7:\n",
        "        print(\"It's \" + str(identity) + \", welcome home!\")\n",
        "        door_open = True\n",
        "    else:\n",
        "        print(\"It's not \" + str(identity) + \", please go away\")\n",
        "        door_open = False\n",
        "\n",
        "    ### END CODE HERE ###\n",
        "\n",
        "    return dist, door_open"
      ]
    },
    {
      "cell_type": "markdown",
      "metadata": {
        "id": "OF95_hYDekYi"
      },
      "source": [
        "Younes is trying to enter the Happy House and the camera takes a picture of him (\"images/camera_0.jpg\"). Let's run your verification algorithm on this picture:\n",
        "\n",
        "<img src=\"//github.com/enggen/Deep-Learning-Coursera/raw/1407e19c98833d2686a0748db26b594f3102301e/Convolutional Neural Networks/Week4/Face Recognition/images/camera_0.jpg\" style=\"width:100px;height:100px;\">"
      ]
    },
    {
      "cell_type": "code",
      "execution_count": null,
      "metadata": {
        "colab": {
          "base_uri": "https://localhost:8080/"
        },
        "id": "E5d4AVPzekYi",
        "outputId": "fee263b5-76a3-440e-e21e-61f94f985810"
      },
      "outputs": [
        {
          "name": "stdout",
          "output_type": "stream",
          "text": [
            "It's not younes, please go away\n"
          ]
        },
        {
          "data": {
            "text/plain": [
              "(0.8141933, False)"
            ]
          },
          "execution_count": 108,
          "metadata": {},
          "output_type": "execute_result"
        }
      ],
      "source": [
        "verify(\"images/camera_0.jpg\", \"younes\", database, FRmodel)"
      ]
    },
    {
      "cell_type": "markdown",
      "metadata": {
        "collapsed": true,
        "id": "iyn2aYMqekYl",
        "jupyter": {
          "outputs_hidden": true
        }
      },
      "source": [
        "**Expected Output**:\n",
        "\n",
        "<table>\n",
        "    <tr>\n",
        "        <td>\n",
        "            **It's younes, welcome home!**\n",
        "        </td>\n",
        "        <td>\n",
        "           (0.65939283, True)\n",
        "        </td>\n",
        "    </tr>\n",
        "\n",
        "</table>"
      ]
    },
    {
      "cell_type": "markdown",
      "metadata": {
        "collapsed": true,
        "id": "Vjk_QdZTekYm",
        "jupyter": {
          "outputs_hidden": true
        }
      },
      "source": [
        "Benoit, who broke the aquarium last weekend, has been banned from the house and removed from the database. He stole Kian's ID card and came back to the house to try to present himself as Kian. The front-door camera took a picture of Benoit (\"images/camera_2.jpg). Let's run the verification algorithm to check if benoit can enter.\n",
        "<img src=\"images/camera_2.jpg\" style=\"width:100px;height:100px;\">"
      ]
    },
    {
      "cell_type": "code",
      "execution_count": null,
      "metadata": {
        "colab": {
          "base_uri": "https://localhost:8080/"
        },
        "id": "hAfG7SbQekYm",
        "outputId": "55a9ea7c-9d5c-4172-9dbf-9d3fb49afdd6"
      },
      "outputs": [
        {
          "name": "stdout",
          "output_type": "stream",
          "text": [
            "It's not kian, please go away\n"
          ]
        },
        {
          "data": {
            "text/plain": [
              "(0.8586889, False)"
            ]
          },
          "execution_count": 109,
          "metadata": {},
          "output_type": "execute_result"
        }
      ],
      "source": [
        "verify(\"images/camera_2.jpg\", \"kian\", database, FRmodel)"
      ]
    },
    {
      "cell_type": "markdown",
      "metadata": {
        "id": "v60OtVDGekYp"
      },
      "source": [
        "**Expected Output**:\n",
        "\n",
        "<table>\n",
        "    <tr>\n",
        "        <td>\n",
        "            **It's not kian, please go away**\n",
        "        </td>\n",
        "        <td>\n",
        "           (0.86224014, False)\n",
        "        </td>\n",
        "    </tr>\n",
        "\n",
        "</table>"
      ]
    },
    {
      "cell_type": "markdown",
      "metadata": {
        "id": "oCwATPgaekYp"
      },
      "source": [
        "### 3.2 - Face Recognition\n",
        "\n",
        "Your face verification system is mostly working well. But since Kian got his ID card stolen, when he came back to the house that evening he couldn't get in!\n",
        "\n",
        "To reduce such shenanigans, you'd like to change your face verification system to a face recognition system. This way, no one has to carry an ID card anymore. An authorized person can just walk up to the house, and the front door will unlock for them!\n",
        "\n",
        "You'll implement a face recognition system that takes as input an image, and figures out if it is one of the authorized persons (and if so, who). Unlike the previous face verification system, we will no longer get a person's name as another input.\n",
        "\n",
        "**Exercise**: Implement `who_is_it()`. You will have to go through the following steps:\n",
        "1. Compute the target encoding of the image from image_path\n",
        "2. Find the encoding from the database that has smallest distance with the target encoding.\n",
        "    - Initialize the `min_dist` variable to a large enough number (100). It will help you keep track of what is the closest encoding to the input's encoding.\n",
        "    - Loop over the database dictionary's names and encodings. To loop use `for (name, db_enc) in database.items()`.\n",
        "        - Compute L2 distance between the target \"encoding\" and the current \"encoding\" from the database.\n",
        "        - If this distance is less than the min_dist, then set min_dist to dist, and identity to name."
      ]
    },
    {
      "cell_type": "code",
      "execution_count": null,
      "metadata": {
        "id": "71ruCyQAekYq"
      },
      "outputs": [],
      "source": [
        "# GRADED FUNCTION: who_is_it\n",
        "\n",
        "def who_is_it(image_path, database, model):\n",
        "    \"\"\"\n",
        "    Implements face recognition for the happy house by finding who is the person on the image_path image.\n",
        "\n",
        "    Arguments:\n",
        "    image_path -- path to an image\n",
        "    database -- database containing image encodings along with the name of the person on the image\n",
        "    model -- your Inception model instance in Keras\n",
        "\n",
        "    Returns:\n",
        "    min_dist -- the minimum distance between image_path encoding and the encodings from the database\n",
        "    identity -- string, the name prediction for the person on image_path\n",
        "    \"\"\"\n",
        "\n",
        "    ### START CODE HERE ###\n",
        "\n",
        "    ## Step 1: Compute the target \"encoding\" for the image. Use img_to_encoding() see example above. ## (≈ 1 line)\n",
        "    encoding = img_to_encoding(image_path, model)\n",
        "\n",
        "    ## Step 2: Find the closest encoding ##\n",
        "\n",
        "    # Initialize \"min_dist\" to a large value, say 100 (≈1 line)\n",
        "    min_dist = 100\n",
        "\n",
        "    #save L2 distances to interpret results\n",
        "    output_data = {}\n",
        "\n",
        "    # Loop over the database dictionary's names and encodings.\n",
        "    for (name, db_enc) in database.items():\n",
        "\n",
        "        # Compute L2 distance between the target \"encoding\" and the current \"emb\" from the database. (≈ 1 line)\n",
        "        dist = np.linalg.norm(encoding-db_enc)\n",
        "\n",
        "        #save L2 distances to interpret results\n",
        "        output_data[f'{name}'] = dist\n",
        "\n",
        "        # If this distance is less than the min_dist, then set min_dist to dist, and identity to name. (≈ 3 lines)\n",
        "        if dist < min_dist:\n",
        "            min_dist = dist\n",
        "            identity = name\n",
        "\n",
        "    ### END CODE HERE ###\n",
        "\n",
        "    if min_dist > 0.7:\n",
        "        print(\"Not in the database.\")\n",
        "    else:\n",
        "        print (\"it's \" + str(identity) + \", the distance is \" + str(min_dist))\n",
        "\n",
        "    return min_dist, identity, output_data"
      ]
    },
    {
      "cell_type": "markdown",
      "metadata": {
        "id": "-fC65aokekYu"
      },
      "source": [
        "Younes is at the front-door and the camera takes a picture of him (\"images/camera_0.jpg\"). Let's see if your who_it_is() algorithm identifies Younes."
      ]
    },
    {
      "cell_type": "code",
      "execution_count": null,
      "metadata": {
        "colab": {
          "base_uri": "https://localhost:8080/"
        },
        "id": "3SHxih8cekYu",
        "outputId": "7f59e39b-eba6-4e3e-d102-9ee4744c4385"
      },
      "outputs": [
        {
          "name": "stdout",
          "output_type": "stream",
          "text": [
            "it's younes, the distance is 0.66713965\n"
          ]
        },
        {
          "data": {
            "text/plain": [
              "(0.66713965, 'younes')"
            ]
          },
          "execution_count": 111,
          "metadata": {},
          "output_type": "execute_result"
        }
      ],
      "source": [
        "output = who_is_it(\"images/camera_0.jpg\", database, FRmodel)"
      ]
    },
    {
      "cell_type": "markdown",
      "metadata": {
        "id": "7yNMrp3sekYx"
      },
      "source": [
        "**Expected Output**:\n",
        "\n",
        "<table>\n",
        "    <tr>\n",
        "        <td>\n",
        "            **it's younes, the distance is 0.659393**\n",
        "        </td>\n",
        "        <td>\n",
        "           (0.65939283, 'younes')\n",
        "        </td>\n",
        "    </tr>\n",
        "\n",
        "</table>"
      ]
    },
    {
      "cell_type": "code",
      "execution_count": null,
      "metadata": {
        "id": "IwY0GeYmhkp7"
      },
      "outputs": [],
      "source": [
        "#dictionary contains the L2 distance between target image encoding and database embeddings of other images\n",
        "output[2]"
      ]
    },
    {
      "cell_type": "markdown",
      "metadata": {
        "id": "YZP2jy5PekYy"
      },
      "source": [
        "You can change \"`camera_0.jpg`\" (picture of younes) to \"`camera_1.jpg`\" (picture of bertrand) and see the result."
      ]
    },
    {
      "cell_type": "markdown",
      "metadata": {
        "id": "4PmywOIMekYz"
      },
      "source": [
        "Your Happy House is running well. It only lets in authorized persons, and people don't need to carry an ID card around anymore!\n",
        "\n",
        "You've now seen how a state-of-the-art face recognition system works.\n",
        "\n",
        "Although we won't implement it here, here're some ways to further improve the algorithm:\n",
        "- Put more images of each person (under different lighting conditions, taken on different days, etc.) into the database. Then given a new image, compare the new face to multiple pictures of the person. This would increae accuracy.\n",
        "- Crop the images to just contain the face, and less of the \"border\" region around the face. This preprocessing removes some of the irrelevant pixels around the face, and also makes the algorithm more robust.\n"
      ]
    },
    {
      "cell_type": "markdown",
      "metadata": {
        "id": "JIeHHu5HekYz"
      },
      "source": [
        "<font color='blue'>\n",
        "**What you should remember**:\n",
        "- Face verification solves an easier 1:1 matching problem; face recognition addresses a harder 1:K matching problem.\n",
        "- The triplet loss is an effective loss function for training a neural network to learn an encoding of a face image.\n",
        "- The same encoding can be used for verification and recognition. Measuring distances between two images' encodings allows you to determine whether they are pictures of the same person."
      ]
    },
    {
      "cell_type": "markdown",
      "metadata": {
        "id": "sqA54eC4ekY0"
      },
      "source": [
        "Congrats on finishing this assignment!\n"
      ]
    },
    {
      "cell_type": "markdown",
      "metadata": {
        "id": "vs5o31H-ekY1"
      },
      "source": [
        "### References:\n",
        "\n",
        "- Florian Schroff, Dmitry Kalenichenko, James Philbin (2015). [FaceNet: A Unified Embedding for Face Recognition and Clustering](https://arxiv.org/pdf/1503.03832.pdf)\n",
        "- Yaniv Taigman, Ming Yang, Marc'Aurelio Ranzato, Lior Wolf (2014). [DeepFace: Closing the gap to human-level performance in face verification](https://research.fb.com/wp-content/uploads/2016/11/deepface-closing-the-gap-to-human-level-performance-in-face-verification.pdf)\n",
        "- The pretrained model we use is inspired by Victor Sy Wang's implementation and was loaded using his code: https://github.com/iwantooxxoox/Keras-OpenFace.\n",
        "- Our implementation also took a lot of inspiration from the official FaceNet github repository: https://github.com/davidsandberg/facenet\n"
      ]
    }
  ],
  "metadata": {
    "accelerator": "GPU",
    "colab": {
      "provenance": [],
      "include_colab_link": true
    },
    "coursera": {
      "course_slug": "convolutional-neural-networks",
      "graded_item_id": "IaknP",
      "launcher_item_id": "5UMr4"
    },
    "kernelspec": {
      "display_name": "Python 3 (ipykernel)",
      "language": "python",
      "name": "python3"
    },
    "language_info": {
      "codemirror_mode": {
        "name": "ipython",
        "version": 3
      },
      "file_extension": ".py",
      "mimetype": "text/x-python",
      "name": "python",
      "nbconvert_exporter": "python",
      "pygments_lexer": "ipython3",
      "version": "3.12.4"
    }
  },
  "nbformat": 4,
  "nbformat_minor": 0
}